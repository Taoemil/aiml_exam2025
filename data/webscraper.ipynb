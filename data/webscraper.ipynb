{
 "cells": [
  {
   "cell_type": "code",
   "execution_count": 2,
   "id": "5e6ad9a2",
   "metadata": {},
   "outputs": [],
   "source": [
    "import os\n",
    "import csv\n",
    "import praw\n",
    "\n"
   ]
  },
  {
   "cell_type": "code",
   "execution_count": null,
   "id": "f00b3bde",
   "metadata": {},
   "outputs": [],
   "source": [
    "def scrape_comments_by_count(subreddit_name, comment_limit=1200, output_csv=\"r_europe.csv\"):\n",
    "    reddit     = get_reddit_instance()\n",
    "    subreddit  = reddit.subreddit(subreddit_name)\n",
    "    written    = 0\n",
    "\n",
    "    with open(output_csv, mode=\"w\", newline=\"\", encoding=\"utf-8\") as csvfile:\n",
    "        writer = csv.writer(csvfile)\n",
    "        writer.writerow([\n",
    "            \"comment_id\",\"body\",\"created_utc\",\"author\",\n",
    "            \"subreddit\",\"link_id\",\"parent_id\",\"score\",\"permalink\"\n",
    "        ])\n",
    "\n",
    "        # iterate submissions\n",
    "        for submission in subreddit.new(limit=None):\n",
    "            submission.comments.replace_more(limit=None)\n",
    "            for comment in submission.comments.list():\n",
    "                writer.writerow([\n",
    "                    comment.id,\n",
    "                    comment.body.replace(\"\\n\", \" \"),\n",
    "                    comment.created_utc,\n",
    "                    str(comment.author),\n",
    "                    subreddit_name,\n",
    "                    comment.link_id,\n",
    "                    comment.parent_id,\n",
    "                    comment.score,\n",
    "                    comment.permalink\n",
    "                ])\n",
    "                written += 1\n",
    "                if written >= comment_limit:\n",
    "                    print(f\"Saved {written} comments → {output_csv}\")\n",
    "                    return\n",
    "\n",
    "    print(f\"Finished scraping; only found {written} comments.\")\n",
    "\n",
    "if __name__ == \"__main__\":\n",
    "    scrape_comments_by_count(\"europe\", comment_limit=1200)"
   ]
  }
 ],
 "metadata": {
  "kernelspec": {
   "display_name": "Python (my-project)",
   "language": "python",
   "name": "exam_code"
  },
  "language_info": {
   "codemirror_mode": {
    "name": "ipython",
    "version": 3
   },
   "file_extension": ".py",
   "mimetype": "text/x-python",
   "name": "python",
   "nbconvert_exporter": "python",
   "pygments_lexer": "ipython3",
   "version": "3.12.4"
  }
 },
 "nbformat": 4,
 "nbformat_minor": 5
}
