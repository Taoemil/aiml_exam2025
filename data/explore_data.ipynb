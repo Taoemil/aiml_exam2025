{
 "cells": [
  {
   "cell_type": "code",
   "execution_count": 1,
   "id": "12431fd0",
   "metadata": {},
   "outputs": [
    {
     "name": "stdout",
     "output_type": "stream",
     "text": [
      "Columns: ['id', 'comment_text']\n",
      "                 id                                       comment_text\n",
      "0  00001cee341fdb12  Yo bitch Ja Rule is more succesful then you'll...\n",
      "1  0000247867823ef7  == From RfC == \\n\\n The title is fine as it is...\n",
      "2  00013b17ad220c46  \" \\n\\n == Sources == \\n\\n * Zawe Ashton on Lap...\n",
      "3  00017563c3f7919a  :If you have a look back at the source, the in...\n",
      "4  00017695ad8997eb          I don't anonymously edit articles at all.\n"
     ]
    }
   ],
   "source": [
    "import pandas as pd\n",
    "\n",
    "df = pd.read_csv(\"kaggle/test.csv\")\n",
    "\n",
    "print(\"Columns:\", df.columns.tolist())\n",
    "\n",
    "print(df.head())"
   ]
  },
  {
   "cell_type": "code",
   "execution_count": 2,
   "id": "55155612",
   "metadata": {},
   "outputs": [
    {
     "name": "stdout",
     "output_type": "stream",
     "text": [
      "Columns: ['id', 'comment_text', 'toxic', 'severe_toxic', 'obscene', 'threat', 'insult', 'identity_hate']\n",
      "                 id                                       comment_text  toxic  \\\n",
      "0  0000997932d777bf  Explanation\\nWhy the edits made under my usern...      0   \n",
      "1  000103f0d9cfb60f  D'aww! He matches this background colour I'm s...      0   \n",
      "2  000113f07ec002fd  Hey man, I'm really not trying to edit war. It...      0   \n",
      "3  0001b41b1c6bb37e  \"\\nMore\\nI can't make any real suggestions on ...      0   \n",
      "4  0001d958c54c6e35  You, sir, are my hero. Any chance you remember...      0   \n",
      "\n",
      "   severe_toxic  obscene  threat  insult  identity_hate  \n",
      "0             0        0       0       0              0  \n",
      "1             0        0       0       0              0  \n",
      "2             0        0       0       0              0  \n",
      "3             0        0       0       0              0  \n",
      "4             0        0       0       0              0  \n"
     ]
    }
   ],
   "source": [
    "df = pd.read_csv(\"kaggle/train.csv\")\n",
    "\n",
    "print(\"Columns:\", df.columns.tolist())\n",
    "\n",
    "print(df.head())"
   ]
  },
  {
   "cell_type": "code",
   "execution_count": 3,
   "id": "d6247521",
   "metadata": {},
   "outputs": [
    {
     "name": "stdout",
     "output_type": "stream",
     "text": [
      "Columns: ['id', 'toxic', 'severe_toxic', 'obscene', 'threat', 'insult', 'identity_hate']\n",
      "                 id  toxic  severe_toxic  obscene  threat  insult  \\\n",
      "0  00001cee341fdb12    0.5           0.5      0.5     0.5     0.5   \n",
      "1  0000247867823ef7    0.5           0.5      0.5     0.5     0.5   \n",
      "2  00013b17ad220c46    0.5           0.5      0.5     0.5     0.5   \n",
      "3  00017563c3f7919a    0.5           0.5      0.5     0.5     0.5   \n",
      "4  00017695ad8997eb    0.5           0.5      0.5     0.5     0.5   \n",
      "\n",
      "   identity_hate  \n",
      "0            0.5  \n",
      "1            0.5  \n",
      "2            0.5  \n",
      "3            0.5  \n",
      "4            0.5  \n"
     ]
    }
   ],
   "source": [
    "df = pd.read_csv(\"kaggle/sample_submission.csv\")\n",
    "\n",
    "print(\"Columns:\", df.columns.tolist())\n",
    "\n",
    "print(df.head())"
   ]
  },
  {
   "cell_type": "code",
   "execution_count": 4,
   "id": "4ec8df3f",
   "metadata": {},
   "outputs": [
    {
     "name": "stdout",
     "output_type": "stream",
     "text": [
      "Columns: ['id', 'toxic', 'severe_toxic', 'obscene', 'threat', 'insult', 'identity_hate']\n",
      "                 id  toxic  severe_toxic  obscene  threat  insult  \\\n",
      "0  00001cee341fdb12     -1            -1       -1      -1      -1   \n",
      "1  0000247867823ef7     -1            -1       -1      -1      -1   \n",
      "2  00013b17ad220c46     -1            -1       -1      -1      -1   \n",
      "3  00017563c3f7919a     -1            -1       -1      -1      -1   \n",
      "4  00017695ad8997eb     -1            -1       -1      -1      -1   \n",
      "\n",
      "   identity_hate  \n",
      "0             -1  \n",
      "1             -1  \n",
      "2             -1  \n",
      "3             -1  \n",
      "4             -1  \n"
     ]
    }
   ],
   "source": [
    "df = pd.read_csv(\"kaggle/test_labels.csv\")\n",
    "\n",
    "print(\"Columns:\", df.columns.tolist())\n",
    "\n",
    "print(df.head())"
   ]
  },
  {
   "cell_type": "code",
   "execution_count": 5,
   "id": "ed13be96",
   "metadata": {},
   "outputs": [
    {
     "name": "stdout",
     "output_type": "stream",
     "text": [
      "Columns: ['comment_id', 'body', 'created_utc', 'author', 'subreddit', 'link_id', 'parent_id', 'score', 'permalink']\n",
      "  comment_id                                               body   created_utc  \\\n",
      "0    mqtjqrf      \"Hotel Rwanda II: Migrants Adrift Are A Gift\"  1.746499e+09   \n",
      "1    mqtus33  Reward them with more coffee imports. A Rwanda...  1.746503e+09   \n",
      "2    mqtxsyg  Rwanda has seen double-digit growth in GDP for...  1.746505e+09   \n",
      "3    mqtkzdw  The past 40 years of dealing with media smear ...  1.746499e+09   \n",
      "4    mqu15ca  I paid for my college, you can pay for yours. ...  1.746506e+09   \n",
      "\n",
      "                 author     subreddit     link_id   parent_id  score  \\\n",
      "0  According-Activity87  conservative  t3_1kftnil  t3_1kftnil      2   \n",
      "1       Right_Archivist  conservative  t3_1kftnil  t3_1kftnil      0   \n",
      "2    Batbuckleyourpants  conservative  t3_1kftnil  t1_mqtjqrf      0   \n",
      "3         D_Ethan_Bones  conservative  t3_1kft365  t3_1kft365      5   \n",
      "4              cliffotn  conservative  t3_1kfsmlq  t3_1kfsmlq      2   \n",
      "\n",
      "                                           permalink  \n",
      "0  /r/Conservative/comments/1kftnil/rwanda_in_dis...  \n",
      "1  /r/Conservative/comments/1kftnil/rwanda_in_dis...  \n",
      "2  /r/Conservative/comments/1kftnil/rwanda_in_dis...  \n",
      "3  /r/Conservative/comments/1kft365/fcc_chair_flo...  \n",
      "4  /r/Conservative/comments/1kfsmlq/trump_admin_e...  \n"
     ]
    }
   ],
   "source": [
    "df = pd.read_csv(\"reddit/r_conservative.csv\")\n",
    "\n",
    "print(\"Columns:\", df.columns.tolist())\n",
    "\n",
    "print(df.head())"
   ]
  }
 ],
 "metadata": {
  "kernelspec": {
   "display_name": "Python (my-project)",
   "language": "python",
   "name": "exam_code"
  },
  "language_info": {
   "codemirror_mode": {
    "name": "ipython",
    "version": 3
   },
   "file_extension": ".py",
   "mimetype": "text/x-python",
   "name": "python",
   "nbconvert_exporter": "python",
   "pygments_lexer": "ipython3",
   "version": "3.12.4"
  }
 },
 "nbformat": 4,
 "nbformat_minor": 5
}
