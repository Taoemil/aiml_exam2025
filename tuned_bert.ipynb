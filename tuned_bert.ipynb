{
 "cells": [
  {
   "cell_type": "code",
   "execution_count": null,
   "id": "1cdc0de6",
   "metadata": {},
   "outputs": [],
   "source": [
    "# Install & import\n",
    "!pip install -qU transformers datasets evaluate\n",
    "\n",
    "import pandas as pd\n",
    "import numpy as np\n",
    "import torch\n",
    "from datasets import load_dataset, Dataset\n",
    "from transformers import (\n",
    "    AutoTokenizer,\n",
    "    AutoModelForSequenceClassification,\n",
    "    Trainer,\n",
    "    TrainingArguments,\n",
    "    DataCollatorWithPadding\n",
    ")\n",
    "from sklearn.model_selection import train_test_split\n",
    "from sklearn.metrics import roc_auc_score\n",
    "from torch.utils.data import Dataset as TorchDataset\n",
    "import evaluate"
   ]
  },
  {
   "cell_type": "code",
   "execution_count": null,
   "id": "63b5d639",
   "metadata": {},
   "outputs": [],
   "source": [
    "#Load & clean data\n",
    "\n",
    "# Adjust path if loading from local CSV\n",
    "train_df = pd.read_csv('train.csv', engine='python', on_bad_lines='skip')\n",
    "train_df['comment_text'] = (\n",
    "    train_df['comment_text']\n",
    "        .str.lower()\n",
    "        .str.replace(r\"<.*?>\", \" \", regex=True)\n",
    "        .str.replace(r\"https?://\\S+\", \" \", regex=True)\n",
    "        .str.replace(r\"[^a-z\\s]\", \" \", regex=True)\n",
    "        .str.replace(r\"\\s+\", \" \", regex=True)\n",
    "        .str.strip()\n",
    ")\n",
    "label_cols = ['toxic','severe_toxic','obscene','threat','insult','identity_hate']"
   ]
  },
  {
   "cell_type": "code",
   "execution_count": null,
   "id": "269d5479",
   "metadata": {},
   "outputs": [],
   "source": [
    "# train_df = train_df.sample(frac=0.3, random_state=42)\n",
    "\n",
    "# Split into train/val\n",
    "X = train_df['comment_text'].tolist()\n",
    "y = train_df[label_cols].values\n",
    "X_train, X_val, y_train, y_val = train_test_split(X, y, test_size=0.2, random_state=42)\n"
   ]
  },
  {
   "cell_type": "code",
   "execution_count": null,
   "id": "14b83f65",
   "metadata": {},
   "outputs": [],
   "source": [
    "#Prepare tokenizer & model\n",
    "\n",
    "checkpoint = 'sentence-transformers/all-MiniLM-L6-v2'\n",
    "tokenizer = AutoTokenizer.from_pretrained(checkpoint)\n",
    "model = AutoModelForSequenceClassification.from_pretrained(\n",
    "    checkpoint,\n",
    "    num_labels=len(label_cols),\n",
    "    problem_type='multi_label_classification'\n",
    ").to('cuda' if torch.cuda.is_available() else 'cpu')"
   ]
  },
  {
   "cell_type": "code",
   "execution_count": null,
   "id": "fc5588fe",
   "metadata": {},
   "outputs": [],
   "source": [
    "# create Datasets for Trainer\n",
    "\n",
    "class ToxicTorchDataset(TorchDataset):\n",
    "    def __init__(self, texts, labels, tokenizer):\n",
    "        self.enc = tokenizer(\n",
    "            texts, truncation=True, padding=True, return_tensors='pt'\n",
    "        )\n",
    "        self.labels = labels\n",
    "    def __len__(self):\n",
    "        return len(self.labels)\n",
    "    def __getitem__(self, idx):\n",
    "        item = {k: v[idx] for k, v in self.enc.items()}\n",
    "        item['labels'] = torch.tensor(self.labels[idx], dtype=torch.float)\n",
    "        return item\n",
    "\n",
    "train_dataset = ToxicTorchDataset(X_train, y_train, tokenizer)\n",
    "val_dataset   = ToxicTorchDataset(X_val,   y_val,   tokenizer)"
   ]
  },
  {
   "cell_type": "code",
   "execution_count": null,
   "id": "64aadb1e",
   "metadata": {},
   "outputs": [],
   "source": [
    "#Define metrics and data collator\n",
    "\n",
    "f1_metric = evaluate.load('f1')\n",
    "\n",
    "def compute_metrics(eval_pred):\n",
    "    logits, labels = eval_pred\n",
    "    probs = torch.sigmoid(torch.tensor(logits)).numpy()\n",
    "    result = {}\n",
    "    for i, lbl in enumerate(label_cols):\n",
    "        result[f'roc_auc_{lbl}'] = roc_auc_score(labels[:, i], probs[:, i])\n",
    "    # f1 on threshold 0.5\n",
    "    preds = (probs >= 0.5).astype(int)\n",
    "    f1 = f1_metric.compute(predictions=preds.flatten(), references=labels.flatten())\n",
    "    result['f1_macro'] = f1['f1']\n",
    "    return result\n",
    "\n",
    "collator = DataCollatorWithPadding(tokenizer)"
   ]
  },
  {
   "cell_type": "code",
   "execution_count": null,
   "id": "3b5915ff",
   "metadata": {},
   "outputs": [],
   "source": [
    "# TrainingArguments & Trainer\n",
    "\n",
    "device = 'cuda' if torch.cuda.is_available() else 'cpu'\n",
    "print(f\"Training on {device}\")\n",
    "\n",
    "training_args = TrainingArguments(\n",
    "    output_dir='./sbert_finetuned',\n",
    "    eval_strategy='epoch',\n",
    "    save_strategy='epoch',\n",
    "    per_device_train_batch_size=16,\n",
    "    per_device_eval_batch_size=16,\n",
    "    num_train_epochs=3,\n",
    "    learning_rate=2e-5,\n",
    "    weight_decay=0.01,\n",
    "    load_best_model_at_end=True,\n",
    "    metric_for_best_model='roc_auc_toxic'\n",
    ")\n",
    "\n",
    "trainer = Trainer(\n",
    "    model=model,\n",
    "    args=training_args,\n",
    "    train_dataset=train_dataset,\n",
    "    eval_dataset=val_dataset,\n",
    "    tokenizer=tokenizer,\n",
    "    data_collator=collator,\n",
    "    compute_metrics=compute_metrics\n",
    ")"
   ]
  },
  {
   "cell_type": "code",
   "execution_count": null,
   "id": "67113030",
   "metadata": {},
   "outputs": [],
   "source": [
    "# fine‑tune\n",
    "\n",
    "trainer.train()"
   ]
  },
  {
   "cell_type": "code",
   "execution_count": null,
   "id": "89f277f8",
   "metadata": {},
   "outputs": [],
   "source": [
    "#Evaluate on validation set\n",
    "\n",
    "val_results = trainer.evaluate()\n",
    "print(val_results)"
   ]
  },
  {
   "cell_type": "code",
   "execution_count": null,
   "id": "0207a9eb",
   "metadata": {},
   "outputs": [],
   "source": [
    "from sklearn.metrics import classification_report\n",
    "import torch\n",
    "import numpy as np\n",
    "\n",
    "´pred_out = trainer.predict(val_dataset)  #\n",
    "logits   = pred_out.predictions           \n",
    "\n",
    "\n",
    "probs  = torch.sigmoid(torch.tensor(logits)).numpy()\n",
    "y_pred = (probs >= 0.5).astype(int)\n",
    "\n",
    "\n",
    "y_true = y_val  # or y_test\n",
    "\n",
    "\n",
    "print(classification_report(\n",
    "    y_true,\n",
    "    y_pred,\n",
    "    target_names=label_cols,\n",
    "    zero_division=0  \n",
    "))"
   ]
  }
 ],
 "metadata": {
  "language_info": {
   "name": "python"
  }
 },
 "nbformat": 4,
 "nbformat_minor": 5
}
