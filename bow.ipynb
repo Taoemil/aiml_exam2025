{
 "cells": [
  {
   "cell_type": "code",
   "execution_count": 5,
   "id": "f1df3f3b",
   "metadata": {},
   "outputs": [],
   "source": [
    "# imports\n",
    "import pandas as pd\n",
    "from sklearn.model_selection import train_test_split, GridSearchCV\n",
    "from sklearn.feature_extraction.text import CountVectorizer, TfidfVectorizer\n",
    "from sklearn.multiclass import OneVsRestClassifier\n",
    "from sklearn.linear_model import LogisticRegression\n",
    "from sklearn.ensemble import RandomForestClassifier\n",
    "from sklearn.pipeline import Pipeline\n",
    "from sklearn.metrics import classification_report\n"
   ]
  },
  {
   "cell_type": "code",
   "execution_count": 6,
   "id": "98e8637c",
   "metadata": {},
   "outputs": [],
   "source": [
    "# load the data\n",
    "train_df = pd.read_csv('data/kaggle/train.csv')\n",
    "test_df = pd.read_csv('data/kaggle/test.csv')"
   ]
  },
  {
   "cell_type": "code",
   "execution_count": 7,
   "id": "c3ea50af",
   "metadata": {},
   "outputs": [],
   "source": [
    "\n",
    "# Prepare features and multi-label targets\n",
    "X = train_df['comment_text']\n",
    "y = train_df[['toxic', 'severe_toxic', 'obscene', 'threat', 'insult', 'identity_hate']]"
   ]
  },
  {
   "cell_type": "code",
   "execution_count": 8,
   "id": "b227c9b6",
   "metadata": {},
   "outputs": [],
   "source": [
    "# 3. Split into train/validation sets\n",
    "X_train, X_val, y_train, y_val = train_test_split(\n",
    "    X, y, test_size=0.2, random_state=42\n",
    ")"
   ]
  },
  {
   "cell_type": "code",
   "execution_count": 9,
   "id": "578ee124",
   "metadata": {},
   "outputs": [],
   "source": [
    "# 4. Define baseline pipelines for each model\n",
    "pipelines = {\n",
    "    'lr_cv_baseline': Pipeline([\n",
    "        ('vect', CountVectorizer()),\n",
    "        ('clf', OneVsRestClassifier(LogisticRegression(max_iter=1000, n_jobs=-1)))\n",
    "    ]),\n",
    "    'lr_tv_baseline': Pipeline([\n",
    "        ('vect', TfidfVectorizer()),\n",
    "        ('clf', OneVsRestClassifier(LogisticRegression(max_iter=1000, n_jobs=-1)))\n",
    "    ]),\n",
    "    'rf_cv_baseline': Pipeline([\n",
    "        ('vect', CountVectorizer()),\n",
    "        ('clf', OneVsRestClassifier(RandomForestClassifier(n_jobs=-1)))\n",
    "    ]),\n",
    "    'rf_tv_baseline': Pipeline([\n",
    "        ('vect', TfidfVectorizer()),\n",
    "        ('clf', OneVsRestClassifier(RandomForestClassifier(n_jobs=-1)))\n",
    "    ]),\n",
    "}"
   ]
  },
  {
   "cell_type": "code",
   "execution_count": 10,
   "id": "ba340e69",
   "metadata": {},
   "outputs": [
    {
     "name": "stdout",
     "output_type": "stream",
     "text": [
      "\n",
      "=== lr_cv_baseline - Training ===\n",
      "=== lr_cv_baseline - Evaluation ===\n"
     ]
    },
    {
     "name": "stderr",
     "output_type": "stream",
     "text": [
      "/Users/emil/Desktop/CM IT /1 år/2 semester/aiml25/exam_code/.venv/lib/python3.12/site-packages/sklearn/metrics/_classification.py:1565: UndefinedMetricWarning: Precision is ill-defined and being set to 0.0 in samples with no predicted labels. Use `zero_division` parameter to control this behavior.\n",
      "  _warn_prf(average, modifier, f\"{metric.capitalize()} is\", len(result))\n",
      "/Users/emil/Desktop/CM IT /1 år/2 semester/aiml25/exam_code/.venv/lib/python3.12/site-packages/sklearn/metrics/_classification.py:1565: UndefinedMetricWarning: Recall is ill-defined and being set to 0.0 in samples with no true labels. Use `zero_division` parameter to control this behavior.\n",
      "  _warn_prf(average, modifier, f\"{metric.capitalize()} is\", len(result))\n",
      "/Users/emil/Desktop/CM IT /1 år/2 semester/aiml25/exam_code/.venv/lib/python3.12/site-packages/sklearn/metrics/_classification.py:1565: UndefinedMetricWarning: F-score is ill-defined and being set to 0.0 in samples with no true nor predicted labels. Use `zero_division` parameter to control this behavior.\n",
      "  _warn_prf(average, modifier, f\"{metric.capitalize()} is\", len(result))\n"
     ]
    },
    {
     "name": "stdout",
     "output_type": "stream",
     "text": [
      "               precision    recall  f1-score   support\n",
      "\n",
      "        toxic       0.86      0.69      0.76      3056\n",
      " severe_toxic       0.51      0.24      0.33       321\n",
      "      obscene       0.88      0.69      0.77      1715\n",
      "       threat       0.36      0.23      0.28        74\n",
      "       insult       0.76      0.50      0.60      1614\n",
      "identity_hate       0.44      0.17      0.25       294\n",
      "\n",
      "    micro avg       0.82      0.60      0.69      7074\n",
      "    macro avg       0.63      0.42      0.50      7074\n",
      " weighted avg       0.80      0.60      0.68      7074\n",
      "  samples avg       0.06      0.05      0.06      7074\n",
      "\n",
      "\n",
      "=== lr_tv_baseline - Training ===\n",
      "=== lr_tv_baseline - Evaluation ===\n"
     ]
    },
    {
     "name": "stderr",
     "output_type": "stream",
     "text": [
      "/Users/emil/Desktop/CM IT /1 år/2 semester/aiml25/exam_code/.venv/lib/python3.12/site-packages/sklearn/metrics/_classification.py:1565: UndefinedMetricWarning: Precision is ill-defined and being set to 0.0 in samples with no predicted labels. Use `zero_division` parameter to control this behavior.\n",
      "  _warn_prf(average, modifier, f\"{metric.capitalize()} is\", len(result))\n",
      "/Users/emil/Desktop/CM IT /1 år/2 semester/aiml25/exam_code/.venv/lib/python3.12/site-packages/sklearn/metrics/_classification.py:1565: UndefinedMetricWarning: Recall is ill-defined and being set to 0.0 in samples with no true labels. Use `zero_division` parameter to control this behavior.\n",
      "  _warn_prf(average, modifier, f\"{metric.capitalize()} is\", len(result))\n",
      "/Users/emil/Desktop/CM IT /1 år/2 semester/aiml25/exam_code/.venv/lib/python3.12/site-packages/sklearn/metrics/_classification.py:1565: UndefinedMetricWarning: F-score is ill-defined and being set to 0.0 in samples with no true nor predicted labels. Use `zero_division` parameter to control this behavior.\n",
      "  _warn_prf(average, modifier, f\"{metric.capitalize()} is\", len(result))\n"
     ]
    },
    {
     "name": "stdout",
     "output_type": "stream",
     "text": [
      "               precision    recall  f1-score   support\n",
      "\n",
      "        toxic       0.91      0.61      0.73      3056\n",
      " severe_toxic       0.60      0.25      0.36       321\n",
      "      obscene       0.92      0.62      0.74      1715\n",
      "       threat       0.53      0.14      0.22        74\n",
      "       insult       0.83      0.51      0.63      1614\n",
      "identity_hate       0.74      0.14      0.24       294\n",
      "\n",
      "    micro avg       0.88      0.55      0.68      7074\n",
      "    macro avg       0.76      0.38      0.49      7074\n",
      " weighted avg       0.87      0.55      0.67      7074\n",
      "  samples avg       0.06      0.05      0.05      7074\n",
      "\n",
      "\n",
      "=== rf_cv_baseline - Training ===\n",
      "=== rf_cv_baseline - Evaluation ===\n"
     ]
    },
    {
     "name": "stderr",
     "output_type": "stream",
     "text": [
      "/Users/emil/Desktop/CM IT /1 år/2 semester/aiml25/exam_code/.venv/lib/python3.12/site-packages/sklearn/metrics/_classification.py:1565: UndefinedMetricWarning: Precision is ill-defined and being set to 0.0 in samples with no predicted labels. Use `zero_division` parameter to control this behavior.\n",
      "  _warn_prf(average, modifier, f\"{metric.capitalize()} is\", len(result))\n",
      "/Users/emil/Desktop/CM IT /1 år/2 semester/aiml25/exam_code/.venv/lib/python3.12/site-packages/sklearn/metrics/_classification.py:1565: UndefinedMetricWarning: Recall is ill-defined and being set to 0.0 in samples with no true labels. Use `zero_division` parameter to control this behavior.\n",
      "  _warn_prf(average, modifier, f\"{metric.capitalize()} is\", len(result))\n",
      "/Users/emil/Desktop/CM IT /1 år/2 semester/aiml25/exam_code/.venv/lib/python3.12/site-packages/sklearn/metrics/_classification.py:1565: UndefinedMetricWarning: F-score is ill-defined and being set to 0.0 in samples with no true nor predicted labels. Use `zero_division` parameter to control this behavior.\n",
      "  _warn_prf(average, modifier, f\"{metric.capitalize()} is\", len(result))\n"
     ]
    },
    {
     "name": "stdout",
     "output_type": "stream",
     "text": [
      "               precision    recall  f1-score   support\n",
      "\n",
      "        toxic       0.90      0.41      0.57      3056\n",
      " severe_toxic       0.54      0.10      0.17       321\n",
      "      obscene       0.87      0.44      0.59      1715\n",
      "       threat       0.67      0.08      0.14        74\n",
      "       insult       0.86      0.32      0.46      1614\n",
      "identity_hate       0.41      0.06      0.11       294\n",
      "\n",
      "    micro avg       0.86      0.37      0.51      7074\n",
      "    macro avg       0.71      0.24      0.34      7074\n",
      " weighted avg       0.84      0.37      0.51      7074\n",
      "  samples avg       0.04      0.03      0.03      7074\n",
      "\n",
      "\n",
      "=== rf_tv_baseline - Training ===\n",
      "=== rf_tv_baseline - Evaluation ===\n",
      "               precision    recall  f1-score   support\n",
      "\n",
      "        toxic       0.90      0.41      0.57      3056\n",
      " severe_toxic       0.51      0.06      0.11       321\n",
      "      obscene       0.87      0.43      0.57      1715\n",
      "       threat       0.57      0.05      0.10        74\n",
      "       insult       0.83      0.31      0.45      1614\n",
      "identity_hate       0.59      0.03      0.06       294\n",
      "\n",
      "    micro avg       0.87      0.36      0.51      7074\n",
      "    macro avg       0.71      0.22      0.31      7074\n",
      " weighted avg       0.84      0.36      0.49      7074\n",
      "  samples avg       0.04      0.03      0.03      7074\n",
      "\n"
     ]
    },
    {
     "name": "stderr",
     "output_type": "stream",
     "text": [
      "/Users/emil/Desktop/CM IT /1 år/2 semester/aiml25/exam_code/.venv/lib/python3.12/site-packages/sklearn/metrics/_classification.py:1565: UndefinedMetricWarning: Precision is ill-defined and being set to 0.0 in samples with no predicted labels. Use `zero_division` parameter to control this behavior.\n",
      "  _warn_prf(average, modifier, f\"{metric.capitalize()} is\", len(result))\n",
      "/Users/emil/Desktop/CM IT /1 år/2 semester/aiml25/exam_code/.venv/lib/python3.12/site-packages/sklearn/metrics/_classification.py:1565: UndefinedMetricWarning: Recall is ill-defined and being set to 0.0 in samples with no true labels. Use `zero_division` parameter to control this behavior.\n",
      "  _warn_prf(average, modifier, f\"{metric.capitalize()} is\", len(result))\n",
      "/Users/emil/Desktop/CM IT /1 år/2 semester/aiml25/exam_code/.venv/lib/python3.12/site-packages/sklearn/metrics/_classification.py:1565: UndefinedMetricWarning: F-score is ill-defined and being set to 0.0 in samples with no true nor predicted labels. Use `zero_division` parameter to control this behavior.\n",
      "  _warn_prf(average, modifier, f\"{metric.capitalize()} is\", len(result))\n"
     ]
    }
   ],
   "source": [
    "# Train and evaluate each baseline model\n",
    "for name, pipeline in pipelines.items():\n",
    "    print(f\"\\n=== {name} - Training ===\")\n",
    "    pipeline.fit(X_train, y_train)\n",
    "    print(f\"=== {name} - Evaluation ===\")\n",
    "    y_pred = pipeline.predict(X_val)\n",
    "    print(classification_report(y_val, y_pred, target_names=y.columns))"
   ]
  },
  {
   "cell_type": "code",
   "execution_count": null,
   "id": "cf6c6162",
   "metadata": {},
   "outputs": [],
   "source": [
    "# Hyperparameter tuning setup, lr_cv & lr_tv\n",
    "tuned_pipelines = {\n",
    "    'lr_cv_tuned': pipelines['lr_cv_baseline'],\n",
    "    'lr_tv_tuned': pipelines['lr_tv_baseline'],\n",
    "}\n",
    "\n",
    "param_grids = {\n",
    "    'lr_cv_tuned': {\n",
    "        'vect__ngram_range': [(1, 1), (1, 2)],\n",
    "        'vect__max_df': [0.75, 0.9],\n",
    "        'vect__min_df': [1, 2],\n",
    "        'clf__estimator__C': [0.1, 1, 10]\n",
    "    },\n",
    "    'lr_tv_tuned': {\n",
    "        'vect__ngram_range': [(1, 1), (1, 2)],\n",
    "        'vect__max_df': [0.75, 0.9],\n",
    "        'vect__min_df': [1, 2],\n",
    "        'clf__estimator__C': [0.1, 1, 10]\n",
    "    },\n",
    "}"
   ]
  },
  {
   "cell_type": "code",
   "execution_count": null,
   "id": "67c5e4ca",
   "metadata": {},
   "outputs": [],
   "source": [
    "# Hyperparameter tuning setup, rf_cv & rf_tv\n"
   ]
  },
  {
   "cell_type": "code",
   "execution_count": null,
   "id": "8e4857a7",
   "metadata": {},
   "outputs": [
    {
     "name": "stdout",
     "output_type": "stream",
     "text": [
      "\n",
      "--- Hyperparameter tuning: lr_cv_tuned ---\n",
      "Fitting 3 folds for each of 24 candidates, totalling 72 fits\n",
      "[CV] END clf__estimator__C=0.1, vect__max_df=0.75, vect__min_df=2, vect__ngram_range=(1, 1); total time=  49.0s\n",
      "[CV] END clf__estimator__C=0.1, vect__max_df=0.75, vect__min_df=2, vect__ngram_range=(1, 1); total time=  50.2s\n",
      "[CV] END clf__estimator__C=0.1, vect__max_df=0.75, vect__min_df=1, vect__ngram_range=(1, 1); total time= 1.2min\n",
      "[CV] END clf__estimator__C=0.1, vect__max_df=0.75, vect__min_df=1, vect__ngram_range=(1, 1); total time= 1.2min\n",
      "[CV] END clf__estimator__C=0.1, vect__max_df=0.75, vect__min_df=1, vect__ngram_range=(1, 1); total time= 1.3min\n",
      "[CV] END clf__estimator__C=0.1, vect__max_df=0.75, vect__min_df=2, vect__ngram_range=(1, 1); total time=  48.8s\n",
      "[CV] END clf__estimator__C=0.1, vect__max_df=0.9, vect__min_df=1, vect__ngram_range=(1, 1); total time= 1.3min\n",
      "[CV] END clf__estimator__C=0.1, vect__max_df=0.9, vect__min_df=1, vect__ngram_range=(1, 1); total time= 1.5min\n",
      "[CV] END clf__estimator__C=0.1, vect__max_df=0.9, vect__min_df=1, vect__ngram_range=(1, 1); total time= 1.3min\n",
      "[CV] END clf__estimator__C=0.1, vect__max_df=0.75, vect__min_df=2, vect__ngram_range=(1, 2); total time= 5.6min\n",
      "[CV] END clf__estimator__C=0.1, vect__max_df=0.75, vect__min_df=2, vect__ngram_range=(1, 2); total time= 6.7min\n",
      "[CV] END clf__estimator__C=0.1, vect__max_df=0.75, vect__min_df=2, vect__ngram_range=(1, 2); total time= 6.9min\n",
      "[CV] END clf__estimator__C=0.1, vect__max_df=0.9, vect__min_df=2, vect__ngram_range=(1, 1); total time=  51.0s\n",
      "[CV] END clf__estimator__C=0.1, vect__max_df=0.9, vect__min_df=2, vect__ngram_range=(1, 1); total time=  55.0s\n",
      "[CV] END clf__estimator__C=0.1, vect__max_df=0.9, vect__min_df=2, vect__ngram_range=(1, 1); total time=  52.9s\n",
      "[CV] END clf__estimator__C=0.1, vect__max_df=0.9, vect__min_df=2, vect__ngram_range=(1, 2); total time= 6.2min\n",
      "[CV] END clf__estimator__C=0.1, vect__max_df=0.9, vect__min_df=2, vect__ngram_range=(1, 2); total time= 8.0min\n",
      "[CV] END clf__estimator__C=1, vect__max_df=0.75, vect__min_df=1, vect__ngram_range=(1, 1); total time= 2.7min\n",
      "[CV] END clf__estimator__C=0.1, vect__max_df=0.75, vect__min_df=1, vect__ngram_range=(1, 2); total time=20.5min\n",
      "[CV] END clf__estimator__C=0.1, vect__max_df=0.9, vect__min_df=2, vect__ngram_range=(1, 2); total time= 7.3min\n",
      "[CV] END clf__estimator__C=0.1, vect__max_df=0.75, vect__min_df=1, vect__ngram_range=(1, 2); total time=22.9min\n",
      "[CV] END clf__estimator__C=1, vect__max_df=0.75, vect__min_df=1, vect__ngram_range=(1, 1); total time= 2.8min\n",
      "[CV] END clf__estimator__C=1, vect__max_df=0.75, vect__min_df=1, vect__ngram_range=(1, 1); total time= 2.9min\n",
      "[CV] END clf__estimator__C=0.1, vect__max_df=0.75, vect__min_df=1, vect__ngram_range=(1, 2); total time=24.9min\n",
      "[CV] END clf__estimator__C=0.1, vect__max_df=0.9, vect__min_df=1, vect__ngram_range=(1, 2); total time=21.9min\n",
      "[CV] END clf__estimator__C=1, vect__max_df=0.75, vect__min_df=2, vect__ngram_range=(1, 1); total time= 1.6min\n",
      "[CV] END clf__estimator__C=1, vect__max_df=0.75, vect__min_df=2, vect__ngram_range=(1, 1); total time= 1.9min\n",
      "[CV] END clf__estimator__C=1, vect__max_df=0.75, vect__min_df=2, vect__ngram_range=(1, 1); total time= 1.9min\n",
      "[CV] END clf__estimator__C=0.1, vect__max_df=0.9, vect__min_df=1, vect__ngram_range=(1, 2); total time=26.5min\n",
      "[CV] END clf__estimator__C=0.1, vect__max_df=0.9, vect__min_df=1, vect__ngram_range=(1, 2); total time=24.5min\n",
      "[CV] END clf__estimator__C=1, vect__max_df=0.9, vect__min_df=1, vect__ngram_range=(1, 1); total time= 2.7min\n",
      "[CV] END clf__estimator__C=1, vect__max_df=0.9, vect__min_df=1, vect__ngram_range=(1, 1); total time= 3.0min\n",
      "[CV] END clf__estimator__C=1, vect__max_df=0.75, vect__min_df=2, vect__ngram_range=(1, 2); total time=10.1min\n",
      "[CV] END clf__estimator__C=1, vect__max_df=0.9, vect__min_df=1, vect__ngram_range=(1, 1); total time= 3.0min\n",
      "[CV] END clf__estimator__C=1, vect__max_df=0.75, vect__min_df=2, vect__ngram_range=(1, 2); total time=12.2min\n",
      "[CV] END clf__estimator__C=1, vect__max_df=0.75, vect__min_df=2, vect__ngram_range=(1, 2); total time=13.5min\n",
      "[CV] END clf__estimator__C=1, vect__max_df=0.9, vect__min_df=2, vect__ngram_range=(1, 1); total time= 1.6min\n",
      "[CV] END clf__estimator__C=1, vect__max_df=0.9, vect__min_df=2, vect__ngram_range=(1, 1); total time= 1.9min\n",
      "[CV] END clf__estimator__C=1, vect__max_df=0.9, vect__min_df=2, vect__ngram_range=(1, 1); total time= 1.9min\n",
      "[CV] END clf__estimator__C=1, vect__max_df=0.9, vect__min_df=2, vect__ngram_range=(1, 2); total time=10.3min\n",
      "[CV] END clf__estimator__C=1, vect__max_df=0.75, vect__min_df=1, vect__ngram_range=(1, 2); total time=32.0min\n",
      "[CV] END clf__estimator__C=1, vect__max_df=0.9, vect__min_df=2, vect__ngram_range=(1, 2); total time=13.2min\n",
      "[CV] END clf__estimator__C=1, vect__max_df=0.75, vect__min_df=1, vect__ngram_range=(1, 2); total time=33.3min\n",
      "[CV] END clf__estimator__C=10, vect__max_df=0.75, vect__min_df=1, vect__ngram_range=(1, 1); total time= 3.9min\n"
     ]
    },
    {
     "name": "stderr",
     "output_type": "stream",
     "text": [
      "/Users/emil/Desktop/CM IT /1 år/2 semester/aiml25/exam_code/.venv/lib/python3.12/site-packages/sklearn/linear_model/_logistic.py:465: ConvergenceWarning: lbfgs failed to converge (status=1):\n",
      "STOP: TOTAL NO. OF ITERATIONS REACHED LIMIT.\n",
      "\n",
      "Increase the number of iterations (max_iter) or scale the data as shown in:\n",
      "    https://scikit-learn.org/stable/modules/preprocessing.html\n",
      "Please also refer to the documentation for alternative solver options:\n",
      "    https://scikit-learn.org/stable/modules/linear_model.html#logistic-regression\n",
      "  n_iter_i = _check_optimize_result(\n",
      "/Users/emil/Desktop/CM IT /1 år/2 semester/aiml25/exam_code/.venv/lib/python3.12/site-packages/sklearn/linear_model/_logistic.py:465: ConvergenceWarning: lbfgs failed to converge (status=1):\n",
      "STOP: TOTAL NO. OF ITERATIONS REACHED LIMIT.\n",
      "\n",
      "Increase the number of iterations (max_iter) or scale the data as shown in:\n",
      "    https://scikit-learn.org/stable/modules/preprocessing.html\n",
      "Please also refer to the documentation for alternative solver options:\n",
      "    https://scikit-learn.org/stable/modules/linear_model.html#logistic-regression\n",
      "  n_iter_i = _check_optimize_result(\n"
     ]
    },
    {
     "name": "stdout",
     "output_type": "stream",
     "text": [
      "[CV] END clf__estimator__C=10, vect__max_df=0.75, vect__min_df=1, vect__ngram_range=(1, 1); total time= 4.4min\n",
      "[CV] END clf__estimator__C=10, vect__max_df=0.75, vect__min_df=1, vect__ngram_range=(1, 1); total time= 4.2min\n",
      "[CV] END clf__estimator__C=1, vect__max_df=0.9, vect__min_df=2, vect__ngram_range=(1, 2); total time=10.5min\n",
      "[CV] END clf__estimator__C=1, vect__max_df=0.9, vect__min_df=1, vect__ngram_range=(1, 2); total time=29.9min\n",
      "[CV] END clf__estimator__C=1, vect__max_df=0.75, vect__min_df=1, vect__ngram_range=(1, 2); total time=41.0min\n"
     ]
    },
    {
     "name": "stderr",
     "output_type": "stream",
     "text": [
      "/Users/emil/Desktop/CM IT /1 år/2 semester/aiml25/exam_code/.venv/lib/python3.12/site-packages/sklearn/linear_model/_logistic.py:465: ConvergenceWarning: lbfgs failed to converge (status=1):\n",
      "STOP: TOTAL NO. OF ITERATIONS REACHED LIMIT.\n",
      "\n",
      "Increase the number of iterations (max_iter) or scale the data as shown in:\n",
      "    https://scikit-learn.org/stable/modules/preprocessing.html\n",
      "Please also refer to the documentation for alternative solver options:\n",
      "    https://scikit-learn.org/stable/modules/linear_model.html#logistic-regression\n",
      "  n_iter_i = _check_optimize_result(\n",
      "/Users/emil/Desktop/CM IT /1 år/2 semester/aiml25/exam_code/.venv/lib/python3.12/site-packages/sklearn/linear_model/_logistic.py:465: ConvergenceWarning: lbfgs failed to converge (status=1):\n",
      "STOP: TOTAL NO. OF ITERATIONS REACHED LIMIT.\n",
      "\n",
      "Increase the number of iterations (max_iter) or scale the data as shown in:\n",
      "    https://scikit-learn.org/stable/modules/preprocessing.html\n",
      "Please also refer to the documentation for alternative solver options:\n",
      "    https://scikit-learn.org/stable/modules/linear_model.html#logistic-regression\n",
      "  n_iter_i = _check_optimize_result(\n",
      "/Users/emil/Desktop/CM IT /1 år/2 semester/aiml25/exam_code/.venv/lib/python3.12/site-packages/sklearn/linear_model/_logistic.py:465: ConvergenceWarning: lbfgs failed to converge (status=1):\n",
      "STOP: TOTAL NO. OF ITERATIONS REACHED LIMIT.\n",
      "\n",
      "Increase the number of iterations (max_iter) or scale the data as shown in:\n",
      "    https://scikit-learn.org/stable/modules/preprocessing.html\n",
      "Please also refer to the documentation for alternative solver options:\n",
      "    https://scikit-learn.org/stable/modules/linear_model.html#logistic-regression\n",
      "  n_iter_i = _check_optimize_result(\n"
     ]
    },
    {
     "name": "stdout",
     "output_type": "stream",
     "text": [
      "[CV] END clf__estimator__C=10, vect__max_df=0.75, vect__min_df=2, vect__ngram_range=(1, 1); total time= 2.7min\n",
      "[CV] END clf__estimator__C=1, vect__max_df=0.9, vect__min_df=1, vect__ngram_range=(1, 2); total time=30.0min\n",
      "[CV] END clf__estimator__C=10, vect__max_df=0.75, vect__min_df=2, vect__ngram_range=(1, 1); total time= 2.4min\n",
      "[CV] END clf__estimator__C=10, vect__max_df=0.75, vect__min_df=2, vect__ngram_range=(1, 1); total time= 2.6min\n",
      "[CV] END clf__estimator__C=10, vect__max_df=0.9, vect__min_df=1, vect__ngram_range=(1, 1); total time= 3.9min\n",
      "[CV] END clf__estimator__C=1, vect__max_df=0.9, vect__min_df=1, vect__ngram_range=(1, 2); total time=37.0min\n"
     ]
    },
    {
     "name": "stderr",
     "output_type": "stream",
     "text": [
      "/Users/emil/Desktop/CM IT /1 år/2 semester/aiml25/exam_code/.venv/lib/python3.12/site-packages/sklearn/linear_model/_logistic.py:465: ConvergenceWarning: lbfgs failed to converge (status=1):\n",
      "STOP: TOTAL NO. OF ITERATIONS REACHED LIMIT.\n",
      "\n",
      "Increase the number of iterations (max_iter) or scale the data as shown in:\n",
      "    https://scikit-learn.org/stable/modules/preprocessing.html\n",
      "Please also refer to the documentation for alternative solver options:\n",
      "    https://scikit-learn.org/stable/modules/linear_model.html#logistic-regression\n",
      "  n_iter_i = _check_optimize_result(\n"
     ]
    },
    {
     "name": "stdout",
     "output_type": "stream",
     "text": [
      "[CV] END clf__estimator__C=10, vect__max_df=0.9, vect__min_df=1, vect__ngram_range=(1, 1); total time= 3.9min\n",
      "[CV] END clf__estimator__C=10, vect__max_df=0.75, vect__min_df=2, vect__ngram_range=(1, 2); total time= 8.6min\n"
     ]
    },
    {
     "name": "stderr",
     "output_type": "stream",
     "text": [
      "/Users/emil/Desktop/CM IT /1 år/2 semester/aiml25/exam_code/.venv/lib/python3.12/site-packages/sklearn/linear_model/_logistic.py:465: ConvergenceWarning: lbfgs failed to converge (status=1):\n",
      "STOP: TOTAL NO. OF ITERATIONS REACHED LIMIT.\n",
      "\n",
      "Increase the number of iterations (max_iter) or scale the data as shown in:\n",
      "    https://scikit-learn.org/stable/modules/preprocessing.html\n",
      "Please also refer to the documentation for alternative solver options:\n",
      "    https://scikit-learn.org/stable/modules/linear_model.html#logistic-regression\n",
      "  n_iter_i = _check_optimize_result(\n",
      "/Users/emil/Desktop/CM IT /1 år/2 semester/aiml25/exam_code/.venv/lib/python3.12/site-packages/sklearn/linear_model/_logistic.py:465: ConvergenceWarning: lbfgs failed to converge (status=1):\n",
      "STOP: TOTAL NO. OF ITERATIONS REACHED LIMIT.\n",
      "\n",
      "Increase the number of iterations (max_iter) or scale the data as shown in:\n",
      "    https://scikit-learn.org/stable/modules/preprocessing.html\n",
      "Please also refer to the documentation for alternative solver options:\n",
      "    https://scikit-learn.org/stable/modules/linear_model.html#logistic-regression\n",
      "  n_iter_i = _check_optimize_result(\n"
     ]
    },
    {
     "name": "stdout",
     "output_type": "stream",
     "text": [
      "[CV] END clf__estimator__C=10, vect__max_df=0.9, vect__min_df=1, vect__ngram_range=(1, 1); total time= 4.0min\n"
     ]
    },
    {
     "name": "stderr",
     "output_type": "stream",
     "text": [
      "/Users/emil/Desktop/CM IT /1 år/2 semester/aiml25/exam_code/.venv/lib/python3.12/site-packages/sklearn/linear_model/_logistic.py:465: ConvergenceWarning: lbfgs failed to converge (status=1):\n",
      "STOP: TOTAL NO. OF ITERATIONS REACHED LIMIT.\n",
      "\n",
      "Increase the number of iterations (max_iter) or scale the data as shown in:\n",
      "    https://scikit-learn.org/stable/modules/preprocessing.html\n",
      "Please also refer to the documentation for alternative solver options:\n",
      "    https://scikit-learn.org/stable/modules/linear_model.html#logistic-regression\n",
      "  n_iter_i = _check_optimize_result(\n"
     ]
    },
    {
     "name": "stdout",
     "output_type": "stream",
     "text": [
      "[CV] END clf__estimator__C=10, vect__max_df=0.75, vect__min_df=2, vect__ngram_range=(1, 2); total time=10.3min\n",
      "[CV] END clf__estimator__C=10, vect__max_df=0.75, vect__min_df=2, vect__ngram_range=(1, 2); total time=12.1min\n"
     ]
    },
    {
     "name": "stderr",
     "output_type": "stream",
     "text": [
      "/Users/emil/Desktop/CM IT /1 år/2 semester/aiml25/exam_code/.venv/lib/python3.12/site-packages/sklearn/linear_model/_logistic.py:465: ConvergenceWarning: lbfgs failed to converge (status=1):\n",
      "STOP: TOTAL NO. OF ITERATIONS REACHED LIMIT.\n",
      "\n",
      "Increase the number of iterations (max_iter) or scale the data as shown in:\n",
      "    https://scikit-learn.org/stable/modules/preprocessing.html\n",
      "Please also refer to the documentation for alternative solver options:\n",
      "    https://scikit-learn.org/stable/modules/linear_model.html#logistic-regression\n",
      "  n_iter_i = _check_optimize_result(\n"
     ]
    },
    {
     "name": "stdout",
     "output_type": "stream",
     "text": [
      "[CV] END clf__estimator__C=10, vect__max_df=0.9, vect__min_df=2, vect__ngram_range=(1, 1); total time= 2.9min\n",
      "[CV] END clf__estimator__C=10, vect__max_df=0.75, vect__min_df=1, vect__ngram_range=(1, 2); total time=21.5min\n"
     ]
    },
    {
     "name": "stderr",
     "output_type": "stream",
     "text": [
      "/Users/emil/Desktop/CM IT /1 år/2 semester/aiml25/exam_code/.venv/lib/python3.12/site-packages/sklearn/linear_model/_logistic.py:465: ConvergenceWarning: lbfgs failed to converge (status=1):\n",
      "STOP: TOTAL NO. OF ITERATIONS REACHED LIMIT.\n",
      "\n",
      "Increase the number of iterations (max_iter) or scale the data as shown in:\n",
      "    https://scikit-learn.org/stable/modules/preprocessing.html\n",
      "Please also refer to the documentation for alternative solver options:\n",
      "    https://scikit-learn.org/stable/modules/linear_model.html#logistic-regression\n",
      "  n_iter_i = _check_optimize_result(\n"
     ]
    },
    {
     "name": "stdout",
     "output_type": "stream",
     "text": [
      "[CV] END clf__estimator__C=10, vect__max_df=0.9, vect__min_df=2, vect__ngram_range=(1, 1); total time= 2.8min\n",
      "[CV] END clf__estimator__C=10, vect__max_df=0.75, vect__min_df=1, vect__ngram_range=(1, 2); total time=20.8min\n"
     ]
    },
    {
     "name": "stderr",
     "output_type": "stream",
     "text": [
      "/Users/emil/Desktop/CM IT /1 år/2 semester/aiml25/exam_code/.venv/lib/python3.12/site-packages/sklearn/linear_model/_logistic.py:465: ConvergenceWarning: lbfgs failed to converge (status=1):\n",
      "STOP: TOTAL NO. OF ITERATIONS REACHED LIMIT.\n",
      "\n",
      "Increase the number of iterations (max_iter) or scale the data as shown in:\n",
      "    https://scikit-learn.org/stable/modules/preprocessing.html\n",
      "Please also refer to the documentation for alternative solver options:\n",
      "    https://scikit-learn.org/stable/modules/linear_model.html#logistic-regression\n",
      "  n_iter_i = _check_optimize_result(\n"
     ]
    },
    {
     "name": "stdout",
     "output_type": "stream",
     "text": [
      "[CV] END clf__estimator__C=10, vect__max_df=0.9, vect__min_df=2, vect__ngram_range=(1, 1); total time= 2.6min\n",
      "[CV] END clf__estimator__C=10, vect__max_df=0.9, vect__min_df=2, vect__ngram_range=(1, 2); total time= 8.4min\n",
      "[CV] END clf__estimator__C=10, vect__max_df=0.75, vect__min_df=1, vect__ngram_range=(1, 2); total time=29.2min\n"
     ]
    },
    {
     "name": "stderr",
     "output_type": "stream",
     "text": [
      "/Users/emil/Desktop/CM IT /1 år/2 semester/aiml25/exam_code/.venv/lib/python3.12/site-packages/sklearn/linear_model/_logistic.py:465: ConvergenceWarning: lbfgs failed to converge (status=1):\n",
      "STOP: TOTAL NO. OF ITERATIONS REACHED LIMIT.\n",
      "\n",
      "Increase the number of iterations (max_iter) or scale the data as shown in:\n",
      "    https://scikit-learn.org/stable/modules/preprocessing.html\n",
      "Please also refer to the documentation for alternative solver options:\n",
      "    https://scikit-learn.org/stable/modules/linear_model.html#logistic-regression\n",
      "  n_iter_i = _check_optimize_result(\n",
      "/Users/emil/Desktop/CM IT /1 år/2 semester/aiml25/exam_code/.venv/lib/python3.12/site-packages/sklearn/linear_model/_logistic.py:465: ConvergenceWarning: lbfgs failed to converge (status=1):\n",
      "STOP: TOTAL NO. OF ITERATIONS REACHED LIMIT.\n",
      "\n",
      "Increase the number of iterations (max_iter) or scale the data as shown in:\n",
      "    https://scikit-learn.org/stable/modules/preprocessing.html\n",
      "Please also refer to the documentation for alternative solver options:\n",
      "    https://scikit-learn.org/stable/modules/linear_model.html#logistic-regression\n",
      "  n_iter_i = _check_optimize_result(\n"
     ]
    },
    {
     "name": "stdout",
     "output_type": "stream",
     "text": [
      "[CV] END clf__estimator__C=10, vect__max_df=0.9, vect__min_df=2, vect__ngram_range=(1, 2); total time= 8.8min\n",
      "[CV] END clf__estimator__C=10, vect__max_df=0.9, vect__min_df=2, vect__ngram_range=(1, 2); total time=10.0min\n",
      "[CV] END clf__estimator__C=10, vect__max_df=0.9, vect__min_df=1, vect__ngram_range=(1, 2); total time=17.5min\n",
      "[CV] END clf__estimator__C=10, vect__max_df=0.9, vect__min_df=1, vect__ngram_range=(1, 2); total time=16.0min\n",
      "[CV] END clf__estimator__C=10, vect__max_df=0.9, vect__min_df=1, vect__ngram_range=(1, 2); total time=19.2min\n",
      "Best params for lr_cv_tuned: {'clf__estimator__C': 10, 'vect__max_df': 0.75, 'vect__min_df': 1, 'vect__ngram_range': (1, 2)}\n"
     ]
    },
    {
     "name": "stderr",
     "output_type": "stream",
     "text": [
      "/Users/emil/Desktop/CM IT /1 år/2 semester/aiml25/exam_code/.venv/lib/python3.12/site-packages/sklearn/metrics/_classification.py:1565: UndefinedMetricWarning: Precision is ill-defined and being set to 0.0 in samples with no predicted labels. Use `zero_division` parameter to control this behavior.\n",
      "  _warn_prf(average, modifier, f\"{metric.capitalize()} is\", len(result))\n",
      "/Users/emil/Desktop/CM IT /1 år/2 semester/aiml25/exam_code/.venv/lib/python3.12/site-packages/sklearn/metrics/_classification.py:1565: UndefinedMetricWarning: Recall is ill-defined and being set to 0.0 in samples with no true labels. Use `zero_division` parameter to control this behavior.\n",
      "  _warn_prf(average, modifier, f\"{metric.capitalize()} is\", len(result))\n",
      "/Users/emil/Desktop/CM IT /1 år/2 semester/aiml25/exam_code/.venv/lib/python3.12/site-packages/sklearn/metrics/_classification.py:1565: UndefinedMetricWarning: F-score is ill-defined and being set to 0.0 in samples with no true nor predicted labels. Use `zero_division` parameter to control this behavior.\n",
      "  _warn_prf(average, modifier, f\"{metric.capitalize()} is\", len(result))\n"
     ]
    },
    {
     "name": "stdout",
     "output_type": "stream",
     "text": [
      "               precision    recall  f1-score   support\n",
      "\n",
      "        toxic       0.86      0.72      0.78      3056\n",
      " severe_toxic       0.50      0.29      0.37       321\n",
      "      obscene       0.88      0.70      0.78      1715\n",
      "       threat       0.47      0.32      0.38        74\n",
      "       insult       0.79      0.58      0.67      1614\n",
      "identity_hate       0.58      0.27      0.36       294\n",
      "\n",
      "    micro avg       0.83      0.64      0.72      7074\n",
      "    macro avg       0.68      0.48      0.56      7074\n",
      " weighted avg       0.82      0.64      0.72      7074\n",
      "  samples avg       0.07      0.06      0.06      7074\n",
      "\n",
      "\n",
      "--- Hyperparameter tuning: lr_tv_tuned ---\n",
      "Fitting 3 folds for each of 24 candidates, totalling 72 fits\n",
      "[CV] END clf__estimator__C=0.1, vect__max_df=0.75, vect__min_df=1, vect__ngram_range=(1, 1); total time=  10.1s\n",
      "[CV] END clf__estimator__C=0.1, vect__max_df=0.75, vect__min_df=2, vect__ngram_range=(1, 1); total time=   9.4s\n",
      "[CV] END clf__estimator__C=0.1, vect__max_df=0.75, vect__min_df=2, vect__ngram_range=(1, 1); total time=   9.1s\n",
      "[CV] END clf__estimator__C=0.1, vect__max_df=0.75, vect__min_df=1, vect__ngram_range=(1, 1); total time=  10.6s\n",
      "[CV] END clf__estimator__C=0.1, vect__max_df=0.75, vect__min_df=1, vect__ngram_range=(1, 1); total time=  10.6s\n",
      "[CV] END clf__estimator__C=0.1, vect__max_df=0.75, vect__min_df=2, vect__ngram_range=(1, 1); total time=  11.5s\n",
      "[CV] END clf__estimator__C=0.1, vect__max_df=0.9, vect__min_df=1, vect__ngram_range=(1, 1); total time=  15.1s\n",
      "[CV] END clf__estimator__C=0.1, vect__max_df=0.9, vect__min_df=1, vect__ngram_range=(1, 1); total time=  17.2s\n",
      "[CV] END clf__estimator__C=0.1, vect__max_df=0.9, vect__min_df=1, vect__ngram_range=(1, 1); total time=  16.0s\n",
      "[CV] END clf__estimator__C=0.1, vect__max_df=0.75, vect__min_df=2, vect__ngram_range=(1, 2); total time=  56.3s\n",
      "[CV] END clf__estimator__C=0.1, vect__max_df=0.75, vect__min_df=2, vect__ngram_range=(1, 2); total time=  56.5s\n",
      "[CV] END clf__estimator__C=0.1, vect__max_df=0.75, vect__min_df=2, vect__ngram_range=(1, 2); total time=  56.0s\n",
      "[CV] END clf__estimator__C=0.1, vect__max_df=0.9, vect__min_df=2, vect__ngram_range=(1, 1); total time=  13.4s\n",
      "[CV] END clf__estimator__C=0.1, vect__max_df=0.9, vect__min_df=2, vect__ngram_range=(1, 1); total time=  13.5s\n",
      "[CV] END clf__estimator__C=0.1, vect__max_df=0.9, vect__min_df=2, vect__ngram_range=(1, 1); total time=  15.3s\n",
      "[CV] END clf__estimator__C=0.1, vect__max_df=0.75, vect__min_df=1, vect__ngram_range=(1, 2); total time= 1.7min\n",
      "[CV] END clf__estimator__C=0.1, vect__max_df=0.75, vect__min_df=1, vect__ngram_range=(1, 2); total time= 1.7min\n",
      "[CV] END clf__estimator__C=0.1, vect__max_df=0.75, vect__min_df=1, vect__ngram_range=(1, 2); total time= 1.8min\n",
      "[CV] END clf__estimator__C=1, vect__max_df=0.75, vect__min_df=1, vect__ngram_range=(1, 1); total time=  18.5s\n",
      "[CV] END clf__estimator__C=1, vect__max_df=0.75, vect__min_df=1, vect__ngram_range=(1, 1); total time=  18.3s\n",
      "[CV] END clf__estimator__C=0.1, vect__max_df=0.9, vect__min_df=1, vect__ngram_range=(1, 2); total time= 1.6min\n",
      "[CV] END clf__estimator__C=0.1, vect__max_df=0.9, vect__min_df=2, vect__ngram_range=(1, 2); total time=  49.9s\n",
      "[CV] END clf__estimator__C=0.1, vect__max_df=0.9, vect__min_df=1, vect__ngram_range=(1, 2); total time= 1.5min\n",
      "[CV] END clf__estimator__C=1, vect__max_df=0.75, vect__min_df=1, vect__ngram_range=(1, 1); total time=  16.1s\n",
      "[CV] END clf__estimator__C=0.1, vect__max_df=0.9, vect__min_df=2, vect__ngram_range=(1, 2); total time=  44.7s\n",
      "[CV] END clf__estimator__C=0.1, vect__max_df=0.9, vect__min_df=2, vect__ngram_range=(1, 2); total time=  41.6s\n",
      "[CV] END clf__estimator__C=0.1, vect__max_df=0.9, vect__min_df=1, vect__ngram_range=(1, 2); total time= 1.4min\n",
      "[CV] END clf__estimator__C=1, vect__max_df=0.75, vect__min_df=2, vect__ngram_range=(1, 1); total time=  13.1s\n",
      "[CV] END clf__estimator__C=1, vect__max_df=0.75, vect__min_df=2, vect__ngram_range=(1, 1); total time=  14.1s\n",
      "[CV] END clf__estimator__C=1, vect__max_df=0.75, vect__min_df=2, vect__ngram_range=(1, 1); total time=  13.4s\n",
      "[CV] END clf__estimator__C=1, vect__max_df=0.9, vect__min_df=1, vect__ngram_range=(1, 1); total time=  22.9s\n",
      "[CV] END clf__estimator__C=1, vect__max_df=0.9, vect__min_df=1, vect__ngram_range=(1, 1); total time=  23.5s\n",
      "[CV] END clf__estimator__C=1, vect__max_df=0.9, vect__min_df=1, vect__ngram_range=(1, 1); total time=  23.9s\n",
      "[CV] END clf__estimator__C=1, vect__max_df=0.75, vect__min_df=2, vect__ngram_range=(1, 2); total time= 1.2min\n",
      "[CV] END clf__estimator__C=1, vect__max_df=0.75, vect__min_df=2, vect__ngram_range=(1, 2); total time= 1.2min\n",
      "[CV] END clf__estimator__C=1, vect__max_df=0.75, vect__min_df=2, vect__ngram_range=(1, 2); total time= 1.3min\n",
      "[CV] END clf__estimator__C=1, vect__max_df=0.9, vect__min_df=2, vect__ngram_range=(1, 1); total time=  18.8s\n",
      "[CV] END clf__estimator__C=1, vect__max_df=0.9, vect__min_df=2, vect__ngram_range=(1, 1); total time=  19.7s\n",
      "[CV] END clf__estimator__C=1, vect__max_df=0.9, vect__min_df=2, vect__ngram_range=(1, 1); total time=  19.0s\n",
      "[CV] END clf__estimator__C=1, vect__max_df=0.75, vect__min_df=1, vect__ngram_range=(1, 2); total time= 2.8min\n",
      "[CV] END clf__estimator__C=1, vect__max_df=0.75, vect__min_df=1, vect__ngram_range=(1, 2); total time= 2.8min\n",
      "[CV] END clf__estimator__C=1, vect__max_df=0.75, vect__min_df=1, vect__ngram_range=(1, 2); total time= 2.9min\n",
      "[CV] END clf__estimator__C=1, vect__max_df=0.9, vect__min_df=2, vect__ngram_range=(1, 2); total time= 1.2min\n",
      "[CV] END clf__estimator__C=10, vect__max_df=0.75, vect__min_df=1, vect__ngram_range=(1, 1); total time=  23.3s\n",
      "[CV] END clf__estimator__C=1, vect__max_df=0.9, vect__min_df=2, vect__ngram_range=(1, 2); total time= 1.1min\n",
      "[CV] END clf__estimator__C=10, vect__max_df=0.75, vect__min_df=1, vect__ngram_range=(1, 1); total time=  21.5s\n",
      "[CV] END clf__estimator__C=10, vect__max_df=0.75, vect__min_df=1, vect__ngram_range=(1, 1); total time=  21.8s\n",
      "[CV] END clf__estimator__C=1, vect__max_df=0.9, vect__min_df=1, vect__ngram_range=(1, 2); total time= 2.7min\n",
      "[CV] END clf__estimator__C=1, vect__max_df=0.9, vect__min_df=2, vect__ngram_range=(1, 2); total time=  56.3s\n",
      "[CV] END clf__estimator__C=1, vect__max_df=0.9, vect__min_df=1, vect__ngram_range=(1, 2); total time= 2.5min\n",
      "[CV] END clf__estimator__C=1, vect__max_df=0.9, vect__min_df=1, vect__ngram_range=(1, 2); total time= 2.3min\n",
      "[CV] END clf__estimator__C=10, vect__max_df=0.75, vect__min_df=2, vect__ngram_range=(1, 1); total time=  17.5s\n",
      "[CV] END clf__estimator__C=10, vect__max_df=0.75, vect__min_df=2, vect__ngram_range=(1, 1); total time=  17.3s\n",
      "[CV] END clf__estimator__C=10, vect__max_df=0.75, vect__min_df=2, vect__ngram_range=(1, 1); total time=  18.5s\n",
      "[CV] END clf__estimator__C=10, vect__max_df=0.9, vect__min_df=1, vect__ngram_range=(1, 1); total time=  26.4s\n",
      "[CV] END clf__estimator__C=10, vect__max_df=0.9, vect__min_df=1, vect__ngram_range=(1, 1); total time=  25.6s\n",
      "[CV] END clf__estimator__C=10, vect__max_df=0.9, vect__min_df=1, vect__ngram_range=(1, 1); total time=  24.7s\n",
      "[CV] END clf__estimator__C=10, vect__max_df=0.75, vect__min_df=2, vect__ngram_range=(1, 2); total time= 1.4min\n",
      "[CV] END clf__estimator__C=10, vect__max_df=0.75, vect__min_df=2, vect__ngram_range=(1, 2); total time= 1.5min\n",
      "[CV] END clf__estimator__C=10, vect__max_df=0.75, vect__min_df=2, vect__ngram_range=(1, 2); total time= 1.5min\n",
      "[CV] END clf__estimator__C=10, vect__max_df=0.9, vect__min_df=2, vect__ngram_range=(1, 1); total time=  20.1s\n",
      "[CV] END clf__estimator__C=10, vect__max_df=0.9, vect__min_df=2, vect__ngram_range=(1, 1); total time=  20.0s\n",
      "[CV] END clf__estimator__C=10, vect__max_df=0.9, vect__min_df=2, vect__ngram_range=(1, 1); total time=  20.7s\n",
      "[CV] END clf__estimator__C=10, vect__max_df=0.9, vect__min_df=2, vect__ngram_range=(1, 2); total time= 1.5min\n",
      "[CV] END clf__estimator__C=10, vect__max_df=0.75, vect__min_df=1, vect__ngram_range=(1, 2); total time= 4.0min\n",
      "[CV] END clf__estimator__C=10, vect__max_df=0.75, vect__min_df=1, vect__ngram_range=(1, 2); total time= 4.2min\n",
      "[CV] END clf__estimator__C=10, vect__max_df=0.9, vect__min_df=2, vect__ngram_range=(1, 2); total time= 1.7min\n",
      "[CV] END clf__estimator__C=10, vect__max_df=0.75, vect__min_df=1, vect__ngram_range=(1, 2); total time= 4.4min\n",
      "[CV] END clf__estimator__C=10, vect__max_df=0.9, vect__min_df=1, vect__ngram_range=(1, 2); total time= 3.7min\n",
      "[CV] END clf__estimator__C=10, vect__max_df=0.9, vect__min_df=2, vect__ngram_range=(1, 2); total time=  56.3s\n",
      "[CV] END clf__estimator__C=10, vect__max_df=0.9, vect__min_df=1, vect__ngram_range=(1, 2); total time= 3.5min\n",
      "[CV] END clf__estimator__C=10, vect__max_df=0.9, vect__min_df=1, vect__ngram_range=(1, 2); total time= 3.1min\n",
      "Best params for lr_tv_tuned: {'clf__estimator__C': 10, 'vect__max_df': 0.75, 'vect__min_df': 1, 'vect__ngram_range': (1, 2)}\n"
     ]
    },
    {
     "name": "stderr",
     "output_type": "stream",
     "text": [
      "/Users/emil/Desktop/CM IT /1 år/2 semester/aiml25/exam_code/.venv/lib/python3.12/site-packages/sklearn/metrics/_classification.py:1565: UndefinedMetricWarning: Precision is ill-defined and being set to 0.0 in samples with no predicted labels. Use `zero_division` parameter to control this behavior.\n",
      "  _warn_prf(average, modifier, f\"{metric.capitalize()} is\", len(result))\n",
      "/Users/emil/Desktop/CM IT /1 år/2 semester/aiml25/exam_code/.venv/lib/python3.12/site-packages/sklearn/metrics/_classification.py:1565: UndefinedMetricWarning: Recall is ill-defined and being set to 0.0 in samples with no true labels. Use `zero_division` parameter to control this behavior.\n",
      "  _warn_prf(average, modifier, f\"{metric.capitalize()} is\", len(result))\n",
      "/Users/emil/Desktop/CM IT /1 år/2 semester/aiml25/exam_code/.venv/lib/python3.12/site-packages/sklearn/metrics/_classification.py:1565: UndefinedMetricWarning: F-score is ill-defined and being set to 0.0 in samples with no true nor predicted labels. Use `zero_division` parameter to control this behavior.\n",
      "  _warn_prf(average, modifier, f\"{metric.capitalize()} is\", len(result))\n"
     ]
    },
    {
     "name": "stdout",
     "output_type": "stream",
     "text": [
      "               precision    recall  f1-score   support\n",
      "\n",
      "        toxic       0.89      0.68      0.77      3056\n",
      " severe_toxic       0.51      0.36      0.42       321\n",
      "      obscene       0.90      0.69      0.78      1715\n",
      "       threat       0.56      0.24      0.34        74\n",
      "       insult       0.80      0.61      0.69      1614\n",
      "identity_hate       0.65      0.25      0.36       294\n",
      "\n",
      "    micro avg       0.85      0.63      0.72      7074\n",
      "    macro avg       0.72      0.47      0.56      7074\n",
      " weighted avg       0.84      0.63      0.72      7074\n",
      "  samples avg       0.06      0.06      0.06      7074\n",
      "\n",
      "\n",
      "--- Hyperparameter tuning: rf_cv_tuned ---\n",
      "Fitting 3 folds for each of 64 candidates, totalling 192 fits\n"
     ]
    },
    {
     "ename": "KeyboardInterrupt",
     "evalue": "",
     "output_type": "error",
     "traceback": [
      "\u001b[31m---------------------------------------------------------------------------\u001b[39m",
      "\u001b[31mKeyboardInterrupt\u001b[39m                         Traceback (most recent call last)",
      "\u001b[36mCell\u001b[39m\u001b[36m \u001b[39m\u001b[32mIn[12]\u001b[39m\u001b[32m, line 12\u001b[39m\n\u001b[32m      3\u001b[39m \u001b[38;5;28mprint\u001b[39m(\u001b[33mf\u001b[39m\u001b[33m\"\u001b[39m\u001b[38;5;130;01m\\n\u001b[39;00m\u001b[33m--- Hyperparameter tuning: \u001b[39m\u001b[38;5;132;01m{\u001b[39;00mname\u001b[38;5;132;01m}\u001b[39;00m\u001b[33m ---\u001b[39m\u001b[33m\"\u001b[39m)\n\u001b[32m      4\u001b[39m gs = GridSearchCV(\n\u001b[32m      5\u001b[39m     estimator=pipeline,\n\u001b[32m      6\u001b[39m     param_grid=param_grids[name],\n\u001b[32m   (...)\u001b[39m\u001b[32m     10\u001b[39m     verbose=\u001b[32m2\u001b[39m\n\u001b[32m     11\u001b[39m )\n\u001b[32m---> \u001b[39m\u001b[32m12\u001b[39m \u001b[43mgs\u001b[49m\u001b[43m.\u001b[49m\u001b[43mfit\u001b[49m\u001b[43m(\u001b[49m\u001b[43mX_train\u001b[49m\u001b[43m,\u001b[49m\u001b[43m \u001b[49m\u001b[43my_train\u001b[49m\u001b[43m)\u001b[49m\n\u001b[32m     13\u001b[39m \u001b[38;5;28mprint\u001b[39m(\u001b[33mf\u001b[39m\u001b[33m\"\u001b[39m\u001b[33mBest params for \u001b[39m\u001b[38;5;132;01m{\u001b[39;00mname\u001b[38;5;132;01m}\u001b[39;00m\u001b[33m:\u001b[39m\u001b[33m\"\u001b[39m, gs.best_params_)\n\u001b[32m     14\u001b[39m y_pred = gs.predict(X_val)\n",
      "\u001b[36mFile \u001b[39m\u001b[32m~/Desktop/CM IT /1 år/2 semester/aiml25/exam_code/.venv/lib/python3.12/site-packages/sklearn/base.py:1389\u001b[39m, in \u001b[36m_fit_context.<locals>.decorator.<locals>.wrapper\u001b[39m\u001b[34m(estimator, *args, **kwargs)\u001b[39m\n\u001b[32m   1382\u001b[39m     estimator._validate_params()\n\u001b[32m   1384\u001b[39m \u001b[38;5;28;01mwith\u001b[39;00m config_context(\n\u001b[32m   1385\u001b[39m     skip_parameter_validation=(\n\u001b[32m   1386\u001b[39m         prefer_skip_nested_validation \u001b[38;5;129;01mor\u001b[39;00m global_skip_validation\n\u001b[32m   1387\u001b[39m     )\n\u001b[32m   1388\u001b[39m ):\n\u001b[32m-> \u001b[39m\u001b[32m1389\u001b[39m     \u001b[38;5;28;01mreturn\u001b[39;00m \u001b[43mfit_method\u001b[49m\u001b[43m(\u001b[49m\u001b[43mestimator\u001b[49m\u001b[43m,\u001b[49m\u001b[43m \u001b[49m\u001b[43m*\u001b[49m\u001b[43margs\u001b[49m\u001b[43m,\u001b[49m\u001b[43m \u001b[49m\u001b[43m*\u001b[49m\u001b[43m*\u001b[49m\u001b[43mkwargs\u001b[49m\u001b[43m)\u001b[49m\n",
      "\u001b[36mFile \u001b[39m\u001b[32m~/Desktop/CM IT /1 år/2 semester/aiml25/exam_code/.venv/lib/python3.12/site-packages/sklearn/model_selection/_search.py:1024\u001b[39m, in \u001b[36mBaseSearchCV.fit\u001b[39m\u001b[34m(self, X, y, **params)\u001b[39m\n\u001b[32m   1018\u001b[39m     results = \u001b[38;5;28mself\u001b[39m._format_results(\n\u001b[32m   1019\u001b[39m         all_candidate_params, n_splits, all_out, all_more_results\n\u001b[32m   1020\u001b[39m     )\n\u001b[32m   1022\u001b[39m     \u001b[38;5;28;01mreturn\u001b[39;00m results\n\u001b[32m-> \u001b[39m\u001b[32m1024\u001b[39m \u001b[38;5;28;43mself\u001b[39;49m\u001b[43m.\u001b[49m\u001b[43m_run_search\u001b[49m\u001b[43m(\u001b[49m\u001b[43mevaluate_candidates\u001b[49m\u001b[43m)\u001b[49m\n\u001b[32m   1026\u001b[39m \u001b[38;5;66;03m# multimetric is determined here because in the case of a callable\u001b[39;00m\n\u001b[32m   1027\u001b[39m \u001b[38;5;66;03m# self.scoring the return type is only known after calling\u001b[39;00m\n\u001b[32m   1028\u001b[39m first_test_score = all_out[\u001b[32m0\u001b[39m][\u001b[33m\"\u001b[39m\u001b[33mtest_scores\u001b[39m\u001b[33m\"\u001b[39m]\n",
      "\u001b[36mFile \u001b[39m\u001b[32m~/Desktop/CM IT /1 år/2 semester/aiml25/exam_code/.venv/lib/python3.12/site-packages/sklearn/model_selection/_search.py:1571\u001b[39m, in \u001b[36mGridSearchCV._run_search\u001b[39m\u001b[34m(self, evaluate_candidates)\u001b[39m\n\u001b[32m   1569\u001b[39m \u001b[38;5;28;01mdef\u001b[39;00m\u001b[38;5;250m \u001b[39m\u001b[34m_run_search\u001b[39m(\u001b[38;5;28mself\u001b[39m, evaluate_candidates):\n\u001b[32m   1570\u001b[39m \u001b[38;5;250m    \u001b[39m\u001b[33;03m\"\"\"Search all candidates in param_grid\"\"\"\u001b[39;00m\n\u001b[32m-> \u001b[39m\u001b[32m1571\u001b[39m     \u001b[43mevaluate_candidates\u001b[49m\u001b[43m(\u001b[49m\u001b[43mParameterGrid\u001b[49m\u001b[43m(\u001b[49m\u001b[38;5;28;43mself\u001b[39;49m\u001b[43m.\u001b[49m\u001b[43mparam_grid\u001b[49m\u001b[43m)\u001b[49m\u001b[43m)\u001b[49m\n",
      "\u001b[36mFile \u001b[39m\u001b[32m~/Desktop/CM IT /1 år/2 semester/aiml25/exam_code/.venv/lib/python3.12/site-packages/sklearn/model_selection/_search.py:970\u001b[39m, in \u001b[36mBaseSearchCV.fit.<locals>.evaluate_candidates\u001b[39m\u001b[34m(candidate_params, cv, more_results)\u001b[39m\n\u001b[32m    962\u001b[39m \u001b[38;5;28;01mif\u001b[39;00m \u001b[38;5;28mself\u001b[39m.verbose > \u001b[32m0\u001b[39m:\n\u001b[32m    963\u001b[39m     \u001b[38;5;28mprint\u001b[39m(\n\u001b[32m    964\u001b[39m         \u001b[33m\"\u001b[39m\u001b[33mFitting \u001b[39m\u001b[38;5;132;01m{0}\u001b[39;00m\u001b[33m folds for each of \u001b[39m\u001b[38;5;132;01m{1}\u001b[39;00m\u001b[33m candidates,\u001b[39m\u001b[33m\"\u001b[39m\n\u001b[32m    965\u001b[39m         \u001b[33m\"\u001b[39m\u001b[33m totalling \u001b[39m\u001b[38;5;132;01m{2}\u001b[39;00m\u001b[33m fits\u001b[39m\u001b[33m\"\u001b[39m.format(\n\u001b[32m    966\u001b[39m             n_splits, n_candidates, n_candidates * n_splits\n\u001b[32m    967\u001b[39m         )\n\u001b[32m    968\u001b[39m     )\n\u001b[32m--> \u001b[39m\u001b[32m970\u001b[39m out = \u001b[43mparallel\u001b[49m\u001b[43m(\u001b[49m\n\u001b[32m    971\u001b[39m \u001b[43m    \u001b[49m\u001b[43mdelayed\u001b[49m\u001b[43m(\u001b[49m\u001b[43m_fit_and_score\u001b[49m\u001b[43m)\u001b[49m\u001b[43m(\u001b[49m\n\u001b[32m    972\u001b[39m \u001b[43m        \u001b[49m\u001b[43mclone\u001b[49m\u001b[43m(\u001b[49m\u001b[43mbase_estimator\u001b[49m\u001b[43m)\u001b[49m\u001b[43m,\u001b[49m\n\u001b[32m    973\u001b[39m \u001b[43m        \u001b[49m\u001b[43mX\u001b[49m\u001b[43m,\u001b[49m\n\u001b[32m    974\u001b[39m \u001b[43m        \u001b[49m\u001b[43my\u001b[49m\u001b[43m,\u001b[49m\n\u001b[32m    975\u001b[39m \u001b[43m        \u001b[49m\u001b[43mtrain\u001b[49m\u001b[43m=\u001b[49m\u001b[43mtrain\u001b[49m\u001b[43m,\u001b[49m\n\u001b[32m    976\u001b[39m \u001b[43m        \u001b[49m\u001b[43mtest\u001b[49m\u001b[43m=\u001b[49m\u001b[43mtest\u001b[49m\u001b[43m,\u001b[49m\n\u001b[32m    977\u001b[39m \u001b[43m        \u001b[49m\u001b[43mparameters\u001b[49m\u001b[43m=\u001b[49m\u001b[43mparameters\u001b[49m\u001b[43m,\u001b[49m\n\u001b[32m    978\u001b[39m \u001b[43m        \u001b[49m\u001b[43msplit_progress\u001b[49m\u001b[43m=\u001b[49m\u001b[43m(\u001b[49m\u001b[43msplit_idx\u001b[49m\u001b[43m,\u001b[49m\u001b[43m \u001b[49m\u001b[43mn_splits\u001b[49m\u001b[43m)\u001b[49m\u001b[43m,\u001b[49m\n\u001b[32m    979\u001b[39m \u001b[43m        \u001b[49m\u001b[43mcandidate_progress\u001b[49m\u001b[43m=\u001b[49m\u001b[43m(\u001b[49m\u001b[43mcand_idx\u001b[49m\u001b[43m,\u001b[49m\u001b[43m \u001b[49m\u001b[43mn_candidates\u001b[49m\u001b[43m)\u001b[49m\u001b[43m,\u001b[49m\n\u001b[32m    980\u001b[39m \u001b[43m        \u001b[49m\u001b[43m*\u001b[49m\u001b[43m*\u001b[49m\u001b[43mfit_and_score_kwargs\u001b[49m\u001b[43m,\u001b[49m\n\u001b[32m    981\u001b[39m \u001b[43m    \u001b[49m\u001b[43m)\u001b[49m\n\u001b[32m    982\u001b[39m \u001b[43m    \u001b[49m\u001b[38;5;28;43;01mfor\u001b[39;49;00m\u001b[43m \u001b[49m\u001b[43m(\u001b[49m\u001b[43mcand_idx\u001b[49m\u001b[43m,\u001b[49m\u001b[43m \u001b[49m\u001b[43mparameters\u001b[49m\u001b[43m)\u001b[49m\u001b[43m,\u001b[49m\u001b[43m \u001b[49m\u001b[43m(\u001b[49m\u001b[43msplit_idx\u001b[49m\u001b[43m,\u001b[49m\u001b[43m \u001b[49m\u001b[43m(\u001b[49m\u001b[43mtrain\u001b[49m\u001b[43m,\u001b[49m\u001b[43m \u001b[49m\u001b[43mtest\u001b[49m\u001b[43m)\u001b[49m\u001b[43m)\u001b[49m\u001b[43m \u001b[49m\u001b[38;5;129;43;01min\u001b[39;49;00m\u001b[43m \u001b[49m\u001b[43mproduct\u001b[49m\u001b[43m(\u001b[49m\n\u001b[32m    983\u001b[39m \u001b[43m        \u001b[49m\u001b[38;5;28;43menumerate\u001b[39;49m\u001b[43m(\u001b[49m\u001b[43mcandidate_params\u001b[49m\u001b[43m)\u001b[49m\u001b[43m,\u001b[49m\n\u001b[32m    984\u001b[39m \u001b[43m        \u001b[49m\u001b[38;5;28;43menumerate\u001b[39;49m\u001b[43m(\u001b[49m\u001b[43mcv\u001b[49m\u001b[43m.\u001b[49m\u001b[43msplit\u001b[49m\u001b[43m(\u001b[49m\u001b[43mX\u001b[49m\u001b[43m,\u001b[49m\u001b[43m \u001b[49m\u001b[43my\u001b[49m\u001b[43m,\u001b[49m\u001b[43m \u001b[49m\u001b[43m*\u001b[49m\u001b[43m*\u001b[49m\u001b[43mrouted_params\u001b[49m\u001b[43m.\u001b[49m\u001b[43msplitter\u001b[49m\u001b[43m.\u001b[49m\u001b[43msplit\u001b[49m\u001b[43m)\u001b[49m\u001b[43m)\u001b[49m\u001b[43m,\u001b[49m\n\u001b[32m    985\u001b[39m \u001b[43m    \u001b[49m\u001b[43m)\u001b[49m\n\u001b[32m    986\u001b[39m \u001b[43m\u001b[49m\u001b[43m)\u001b[49m\n\u001b[32m    988\u001b[39m \u001b[38;5;28;01mif\u001b[39;00m \u001b[38;5;28mlen\u001b[39m(out) < \u001b[32m1\u001b[39m:\n\u001b[32m    989\u001b[39m     \u001b[38;5;28;01mraise\u001b[39;00m \u001b[38;5;167;01mValueError\u001b[39;00m(\n\u001b[32m    990\u001b[39m         \u001b[33m\"\u001b[39m\u001b[33mNo fits were performed. \u001b[39m\u001b[33m\"\u001b[39m\n\u001b[32m    991\u001b[39m         \u001b[33m\"\u001b[39m\u001b[33mWas the CV iterator empty? \u001b[39m\u001b[33m\"\u001b[39m\n\u001b[32m    992\u001b[39m         \u001b[33m\"\u001b[39m\u001b[33mWere there no candidates?\u001b[39m\u001b[33m\"\u001b[39m\n\u001b[32m    993\u001b[39m     )\n",
      "\u001b[36mFile \u001b[39m\u001b[32m~/Desktop/CM IT /1 år/2 semester/aiml25/exam_code/.venv/lib/python3.12/site-packages/sklearn/utils/parallel.py:77\u001b[39m, in \u001b[36mParallel.__call__\u001b[39m\u001b[34m(self, iterable)\u001b[39m\n\u001b[32m     72\u001b[39m config = get_config()\n\u001b[32m     73\u001b[39m iterable_with_config = (\n\u001b[32m     74\u001b[39m     (_with_config(delayed_func, config), args, kwargs)\n\u001b[32m     75\u001b[39m     \u001b[38;5;28;01mfor\u001b[39;00m delayed_func, args, kwargs \u001b[38;5;129;01min\u001b[39;00m iterable\n\u001b[32m     76\u001b[39m )\n\u001b[32m---> \u001b[39m\u001b[32m77\u001b[39m \u001b[38;5;28;01mreturn\u001b[39;00m \u001b[38;5;28;43msuper\u001b[39;49m\u001b[43m(\u001b[49m\u001b[43m)\u001b[49m\u001b[43m.\u001b[49m\u001b[34;43m__call__\u001b[39;49m\u001b[43m(\u001b[49m\u001b[43miterable_with_config\u001b[49m\u001b[43m)\u001b[49m\n",
      "\u001b[36mFile \u001b[39m\u001b[32m~/Desktop/CM IT /1 år/2 semester/aiml25/exam_code/.venv/lib/python3.12/site-packages/joblib/parallel.py:2071\u001b[39m, in \u001b[36mParallel.__call__\u001b[39m\u001b[34m(self, iterable)\u001b[39m\n\u001b[32m   2065\u001b[39m \u001b[38;5;66;03m# The first item from the output is blank, but it makes the interpreter\u001b[39;00m\n\u001b[32m   2066\u001b[39m \u001b[38;5;66;03m# progress until it enters the Try/Except block of the generator and\u001b[39;00m\n\u001b[32m   2067\u001b[39m \u001b[38;5;66;03m# reaches the first `yield` statement. This starts the asynchronous\u001b[39;00m\n\u001b[32m   2068\u001b[39m \u001b[38;5;66;03m# dispatch of the tasks to the workers.\u001b[39;00m\n\u001b[32m   2069\u001b[39m \u001b[38;5;28mnext\u001b[39m(output)\n\u001b[32m-> \u001b[39m\u001b[32m2071\u001b[39m \u001b[38;5;28;01mreturn\u001b[39;00m output \u001b[38;5;28;01mif\u001b[39;00m \u001b[38;5;28mself\u001b[39m.return_generator \u001b[38;5;28;01melse\u001b[39;00m \u001b[38;5;28;43mlist\u001b[39;49m\u001b[43m(\u001b[49m\u001b[43moutput\u001b[49m\u001b[43m)\u001b[49m\n",
      "\u001b[36mFile \u001b[39m\u001b[32m~/Desktop/CM IT /1 år/2 semester/aiml25/exam_code/.venv/lib/python3.12/site-packages/joblib/parallel.py:1681\u001b[39m, in \u001b[36mParallel._get_outputs\u001b[39m\u001b[34m(self, iterator, pre_dispatch)\u001b[39m\n\u001b[32m   1678\u001b[39m     \u001b[38;5;28;01myield\u001b[39;00m\n\u001b[32m   1680\u001b[39m     \u001b[38;5;28;01mwith\u001b[39;00m \u001b[38;5;28mself\u001b[39m._backend.retrieval_context():\n\u001b[32m-> \u001b[39m\u001b[32m1681\u001b[39m         \u001b[38;5;28;01myield from\u001b[39;00m \u001b[38;5;28mself\u001b[39m._retrieve()\n\u001b[32m   1683\u001b[39m \u001b[38;5;28;01mexcept\u001b[39;00m \u001b[38;5;167;01mGeneratorExit\u001b[39;00m:\n\u001b[32m   1684\u001b[39m     \u001b[38;5;66;03m# The generator has been garbage collected before being fully\u001b[39;00m\n\u001b[32m   1685\u001b[39m     \u001b[38;5;66;03m# consumed. This aborts the remaining tasks if possible and warn\u001b[39;00m\n\u001b[32m   1686\u001b[39m     \u001b[38;5;66;03m# the user if necessary.\u001b[39;00m\n\u001b[32m   1687\u001b[39m     \u001b[38;5;28mself\u001b[39m._exception = \u001b[38;5;28;01mTrue\u001b[39;00m\n",
      "\u001b[36mFile \u001b[39m\u001b[32m~/Desktop/CM IT /1 år/2 semester/aiml25/exam_code/.venv/lib/python3.12/site-packages/joblib/parallel.py:1799\u001b[39m, in \u001b[36mParallel._retrieve\u001b[39m\u001b[34m(self)\u001b[39m\n\u001b[32m   1788\u001b[39m \u001b[38;5;28;01mif\u001b[39;00m \u001b[38;5;28mself\u001b[39m.return_ordered:\n\u001b[32m   1789\u001b[39m     \u001b[38;5;66;03m# Case ordered: wait for completion (or error) of the next job\u001b[39;00m\n\u001b[32m   1790\u001b[39m     \u001b[38;5;66;03m# that have been dispatched and not retrieved yet. If no job\u001b[39;00m\n\u001b[32m   (...)\u001b[39m\u001b[32m   1794\u001b[39m     \u001b[38;5;66;03m# control only have to be done on the amount of time the next\u001b[39;00m\n\u001b[32m   1795\u001b[39m     \u001b[38;5;66;03m# dispatched job is pending.\u001b[39;00m\n\u001b[32m   1796\u001b[39m     \u001b[38;5;28;01mif\u001b[39;00m (nb_jobs == \u001b[32m0\u001b[39m) \u001b[38;5;129;01mor\u001b[39;00m (\n\u001b[32m   1797\u001b[39m         \u001b[38;5;28mself\u001b[39m._jobs[\u001b[32m0\u001b[39m].get_status(timeout=\u001b[38;5;28mself\u001b[39m.timeout) == TASK_PENDING\n\u001b[32m   1798\u001b[39m     ):\n\u001b[32m-> \u001b[39m\u001b[32m1799\u001b[39m         \u001b[43mtime\u001b[49m\u001b[43m.\u001b[49m\u001b[43msleep\u001b[49m\u001b[43m(\u001b[49m\u001b[32;43m0.01\u001b[39;49m\u001b[43m)\u001b[49m\n\u001b[32m   1800\u001b[39m         \u001b[38;5;28;01mcontinue\u001b[39;00m\n\u001b[32m   1802\u001b[39m \u001b[38;5;28;01melif\u001b[39;00m nb_jobs == \u001b[32m0\u001b[39m:\n\u001b[32m   1803\u001b[39m     \u001b[38;5;66;03m# Case unordered: jobs are added to the list of jobs to\u001b[39;00m\n\u001b[32m   1804\u001b[39m     \u001b[38;5;66;03m# retrieve `self._jobs` only once completed or in error, which\u001b[39;00m\n\u001b[32m   (...)\u001b[39m\u001b[32m   1810\u001b[39m     \u001b[38;5;66;03m# timeouts before any other dispatched job has completed and\u001b[39;00m\n\u001b[32m   1811\u001b[39m     \u001b[38;5;66;03m# been added to `self._jobs` to be retrieved.\u001b[39;00m\n",
      "\u001b[31mKeyboardInterrupt\u001b[39m: "
     ]
    }
   ],
   "source": [
    "#Run GridSearchCV for each lr_tv and lr_cv\n",
    "for name, pipeline in tuned_pipelines.items():\n",
    "    print(f\"\\n--- Hyperparameter tuning: {name} ---\")\n",
    "    gs = GridSearchCV(\n",
    "        estimator=pipeline,\n",
    "        param_grid=param_grids[name],\n",
    "        scoring='f1_macro',\n",
    "        cv=3,\n",
    "        n_jobs=-1,\n",
    "        verbose=2\n",
    "    )\n",
    "    gs.fit(X_train, y_train)\n",
    "    print(f\"Best params for {name}:\", gs.best_params_)\n",
    "    y_pred = gs.predict(X_val)\n",
    "    print(classification_report(y_val, y_pred, target_names=y.columns))\n"
   ]
  },
  {
   "cell_type": "code",
   "execution_count": null,
   "id": "506ba491",
   "metadata": {},
   "outputs": [],
   "source": [
    "# Freeze best vectorizer settings\n",
    "best_vect_params = {\n",
    "    'ngram_range': (1, 2),\n",
    "    'max_df': 0.9,\n",
    "    'min_df': 1\n",
    "}\n",
    "\n",
    "# Define simplified RF pipelines (single-threaded inner estimator) to reduce runtime\n",
    "rf_cv_tuned = Pipeline([\n",
    "    ('vect', CountVectorizer(**best_vect_params)),\n",
    "    ('clf', OneVsRestClassifier(\n",
    "        RandomForestClassifier(random_state=42, n_jobs=1)\n",
    "    ))\n",
    "])\n",
    "\n",
    "rf_tv_tuned = Pipeline([\n",
    "    ('vect', TfidfVectorizer(**best_vect_params)),\n",
    "    ('clf', OneVsRestClassifier(\n",
    "        RandomForestClassifier(random_state=42, n_jobs=1)\n",
    "    ))\n",
    "])\n",
    "\n",
    "# Slimmed-down RF hyperparameter grid\n",
    "param_grid_rf = {\n",
    "    'clf__estimator__n_estimators':      [100, 200],\n",
    "    'clf__estimator__min_samples_split': [2,   5],\n",
    "}"
   ]
  },
  {
   "cell_type": "code",
   "execution_count": null,
   "id": "568fef5f",
   "metadata": {},
   "outputs": [],
   "source": [
    "# %%\n",
    "#  Run GridSearchCV for rf_cv and rf_tv\n",
    "\n",
    "for name, pipeline in [('rf_cv_tuned', rf_cv_tuned), ('rf_tv_tuned', rf_tv_tuned)]:\n",
    "    print(f\"\\n=== Hyperparameter tuning: {name} ===\")\n",
    "    gs = GridSearchCV(\n",
    "        estimator=pipeline,\n",
    "        param_grid=param_grid_rf,\n",
    "        scoring='f1_macro',\n",
    "        cv=2,            # fewer folds = faster\n",
    "        n_jobs=-1,\n",
    "        verbose=2\n",
    "    )\n",
    "    gs.fit(X_train, y_train)\n",
    "    print(f\"Best params for {name}:\", gs.best_params_)\n",
    "    \n",
    "    # Evaluate on the validation set\n",
    "    y_pred = gs.predict(X_val)\n",
    "    print(f\"--- Evaluation for {name} on validation set ---\")\n",
    "    print(classification_report(y_val, y_pred, target_names=y.columns))"
   ]
  }
 ],
 "metadata": {
  "kernelspec": {
   "display_name": "Python (my-project)",
   "language": "python",
   "name": "exam_code"
  },
  "language_info": {
   "codemirror_mode": {
    "name": "ipython",
    "version": 3
   },
   "file_extension": ".py",
   "mimetype": "text/x-python",
   "name": "python",
   "nbconvert_exporter": "python",
   "pygments_lexer": "ipython3",
   "version": "3.12.4"
  }
 },
 "nbformat": 4,
 "nbformat_minor": 5
}
