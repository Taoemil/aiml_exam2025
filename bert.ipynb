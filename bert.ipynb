{
 "cells": [
  {
   "cell_type": "code",
   "execution_count": null,
   "id": "f90eb1f1",
   "metadata": {},
   "outputs": [],
   "source": [
    "import pandas as pd\n",
    "from sklearn.model_selection import train_test_split\n",
    "from sentence_transformers import SentenceTransformer\n",
    "from sklearn.multiclass import OneVsRestClassifier\n",
    "from sklearn.linear_model import LogisticRegression\n",
    "from sklearn.metrics import roc_auc_score, classification_report\n",
    "\n",
    "from sentence_transformers import SentenceTransformer\n",
    "model = SentenceTransformer('all-MiniLM-L6-v2', device='cuda')"
   ]
  },
  {
   "cell_type": "code",
   "execution_count": null,
   "id": "423b98dd",
   "metadata": {},
   "outputs": [],
   "source": [
    "# load & clean\n",
    "train_df = pd.read_csv(\n",
    "    \"sample_data/train.csv\",\n",
    "    engine=\"python\",            # switch to the pure-Python parser\n",
    "    on_bad_lines=\"skip\",        # skip any malformed row\n",
    "    sep=\",\",                    # explicit separator\n",
    "    quotechar='\"',              # default quote char\n",
    ")\n",
    "print(\"Loaded rows:\", train_df.shape[0])\n",
    "\n",
    "\n",
    "\n",
    "\n",
    "label_cols = ['toxic','severe_toxic','obscene','threat','insult','identity_hate']\n",
    "train_df['comment_text'] = (\n",
    "    train_df['comment_text']\n",
    "      .str.lower()\n",
    "      .str.replace(r\"<.*?>\", \" \", regex=True)\n",
    "      .str.replace(r\"https?://\\S+\", \" \", regex=True)\n",
    "      .str.replace(r\"[^a-z\\s]\", \" \", regex=True)\n",
    "      .str.replace(r\"\\s+\", \" \", regex=True)\n",
    "      .str.strip()\n",
    ")"
   ]
  },
  {
   "cell_type": "code",
   "execution_count": null,
   "id": "c5b2d0fd",
   "metadata": {},
   "outputs": [],
   "source": [
    "# Change frac= to test hyperparameters at shorter runtime\n",
    "train_small = train_df.sample(frac=1.0, random_state=42)"
   ]
  },
  {
   "cell_type": "code",
   "execution_count": null,
   "id": "05ff7f5d",
   "metadata": {},
   "outputs": [],
   "source": [
    "#Split into train/val (80/20 of the small slice)\n",
    "X = train_small['comment_text'].to_numpy()\n",
    "y = train_small[label_cols].to_numpy()\n",
    "X_train, X_val, y_train, y_val = train_test_split(\n",
    "    X, y, test_size=0.2, random_state=42\n",
    ")"
   ]
  },
  {
   "cell_type": "code",
   "execution_count": null,
   "id": "89faff4e",
   "metadata": {},
   "outputs": [],
   "source": [
    "# Embed with a compact SBERT model\n",
    "model = SentenceTransformer('all-MiniLM-L6-v2', device='cuda') \n",
    "X_train_emb = model.encode(\n",
    "    X_train, batch_size=64, show_progress_bar=True, convert_to_numpy=True\n",
    ")\n",
    "X_val_emb = model.encode(\n",
    "    X_val,   batch_size=64, show_progress_bar=True, convert_to_numpy=True\n",
    ")\n",
    "\n",
    "# shape check\n",
    "print(\"Train emb:\", X_train_emb.shape, \"Val emb:\", X_val_emb.shape)"
   ]
  },
  {
   "cell_type": "code",
   "execution_count": null,
   "id": "fad79b0b",
   "metadata": {},
   "outputs": [],
   "source": [
    "#Train & evaluate\n",
    "clf = OneVsRestClassifier(LogisticRegression(max_iter=500), n_jobs=-1)\n",
    "clf.fit(X_train_emb, y_train)\n",
    "\n",
    "y_val_prob = clf.predict_proba(X_val_emb)\n",
    "y_val_pred = (y_val_prob >= 0.5).astype(int)\n",
    "\n",
    "print(\"ROC-AUC per label:\")\n",
    "for i,l in enumerate(label_cols):\n",
    "    print(f\"  {l:15s}: {roc_auc_score(y_val[:,i], y_val_prob[:,i]):.4f}\")\n",
    "\n",
    "print(\"\\nClassification Report @0.5:\")\n",
    "print(classification_report(y_val, y_val_pred, target_names=label_cols))"
   ]
  }
 ],
 "metadata": {
  "kernelspec": {
   "display_name": "Python (my-project)",
   "language": "python",
   "name": "exam_code"
  },
  "language_info": {
   "codemirror_mode": {
    "name": "ipython",
    "version": 3
   },
   "file_extension": ".py",
   "mimetype": "text/x-python",
   "name": "python",
   "nbconvert_exporter": "python",
   "pygments_lexer": "ipython3",
   "version": "3.12.4"
  }
 },
 "nbformat": 4,
 "nbformat_minor": 5
}
